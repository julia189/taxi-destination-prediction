{
 "cells": [
  {
   "cell_type": "code",
   "execution_count": 22,
   "id": "deadc33d",
   "metadata": {
    "tags": []
   },
   "outputs": [],
   "source": [
    "import os, sys\n",
    "import pandas as pd\n",
    "import numpy as np\n",
    "import datetime\n",
    "from datetime import datetime\n",
    "import time\n",
    "import json\n",
    "import sklearn\n",
    "import awswrangler as wr"
   ]
  },
  {
   "cell_type": "code",
   "execution_count": 23,
   "id": "f8a6816d",
   "metadata": {},
   "outputs": [],
   "source": [
    "is_sagemaker_notebook = False"
   ]
  },
  {
   "cell_type": "code",
   "execution_count": 24,
   "id": "8dd03332-5d78-4c77-8f88-c69543ec1356",
   "metadata": {
    "tags": []
   },
   "outputs": [],
   "source": [
    "if is_sagemaker_notebook:\n",
    "    prefix = \"/home/ec2-user/SageMaker\"\n",
    "else:\n",
    "    prefix = \"/Users/Q619505/PycharmProjects/personal-projects\"\n",
    "\n",
    "utils_path = os.path.join(f'{prefix}/ml-project-taxi-prediction/src/utils/')\n",
    "pp_path = os.path.join(f'{prefix}/ml-project-taxi-prediction/src/preprocessing')\n",
    "\n",
    "if utils_path not in sys.path:\n",
    "    sys.path.append(utils_path)\n",
    "\n",
    "if pp_path not in sys.path:\n",
    "    sys.path.append(pp_path)"
   ]
  },
  {
   "cell_type": "code",
   "execution_count": 25,
   "id": "98e57095",
   "metadata": {
    "tags": []
   },
   "outputs": [],
   "source": [
    "import utils"
   ]
  },
  {
   "cell_type": "code",
   "execution_count": 26,
   "id": "362f3e44",
   "metadata": {
    "tags": []
   },
   "outputs": [],
   "source": [
    "prefix_path = 's3://think-tank-casestudy/preprocessed_data'"
   ]
  },
  {
   "cell_type": "code",
   "execution_count": 27,
   "id": "c03c4c04",
   "metadata": {
    "tags": []
   },
   "outputs": [],
   "source": [
    "n_cluster = 4000"
   ]
  },
  {
   "cell_type": "code",
   "execution_count": 28,
   "id": "197a6d59",
   "metadata": {
    "tags": []
   },
   "outputs": [],
   "source": [
    "if is_sagemaker_notebook:\n",
    "    train_data = wr.s3.read_parquet(path=f'{prefix_path}/n_cluster_{n_cluster}/train_data_clustered.parquet')\n",
    "    test_data = wr.s3.read_parquet(path=f'{prefix_path}/n_cluster_{n_cluster}/test_data_clustered.parquet')\n",
    "else:\n",
    "    train_data = pd.read_csv(f'{prefix}/ml-project-taxi-prediction/data/processed/train_data.csv', header=0, index_col=False)\n",
    "    test_data = pd.read_csv(f'{prefix}/ml-project-taxi-prediction/data/processed/test_data.csv', header=0, index_col=False)"
   ]
  },
  {
   "cell_type": "code",
   "execution_count": 29,
   "id": "d1d20e39",
   "metadata": {},
   "outputs": [
    {
     "name": "stdout",
     "output_type": "stream",
     "text": [
      "<class 'pandas.core.frame.DataFrame'>\n",
      "RangeIndex: 1366762 entries, 0 to 1366761\n",
      "Data columns (total 15 columns):\n",
      " #   Column                     Non-Null Count    Dtype  \n",
      "---  ------                     --------------    -----  \n",
      " 0   trip_id                    1366762 non-null  int64  \n",
      " 1   call_type                  1366762 non-null  object \n",
      " 2   origin_call                297184 non-null   float64\n",
      " 3   origin_stand               687325 non-null   float64\n",
      " 4   taxi_id                    1366762 non-null  int64  \n",
      " 5   timestamp                  1366762 non-null  object \n",
      " 6   day_type                   1366762 non-null  object \n",
      " 7   polyline                   1366762 non-null  object \n",
      " 8   n_coordinate_points        1366762 non-null  int64  \n",
      " 9   total_flight_time_minutes  1366762 non-null  float64\n",
      " 10  start_point                1366762 non-null  object \n",
      " 11  dest_point                 1366762 non-null  object \n",
      " 12  final_point                1366762 non-null  object \n",
      " 13  total_distance_km          1366762 non-null  float64\n",
      " 14  sequence                   1366762 non-null  object \n",
      "dtypes: float64(4), int64(3), object(8)\n",
      "memory usage: 156.4+ MB\n"
     ]
    }
   ],
   "source": [
    "train_data.info()"
   ]
  },
  {
   "cell_type": "markdown",
   "id": "b735b886",
   "metadata": {},
   "source": [
    "- CALL TYPE -> ONE_HOT ENCODING, no ordinal relationship\n",
    "- WEATHER --> ONE HOT ENCODING, no ordinal relationship\n",
    "- ORIGIN STAND --> Reduction of High cardinality + ONE HOT ENCODING\n",
    "- MONTH/WEEK per year --> ONE HOT ENCODING or ORDINAL ENCODING"
   ]
  },
  {
   "cell_type": "code",
   "execution_count": 30,
   "id": "0b781e40",
   "metadata": {
    "tags": []
   },
   "outputs": [],
   "source": [
    "train_data = utils.extend_timestamps(train_data, 'timestamp')\n",
    "test_data = utils.extend_timestamps(test_data, 'timestamp')"
   ]
  },
  {
   "cell_type": "code",
   "execution_count": 31,
   "id": "0bea9d7e",
   "metadata": {
    "tags": []
   },
   "outputs": [],
   "source": [
    "train_data = utils.reduce_high_cardinality(train_data, ['origin_stand'])\n",
    "test_data = utils.reduce_high_cardinality(test_data, ['origin_stand'])"
   ]
  },
  {
   "cell_type": "code",
   "execution_count": 32,
   "id": "9190b8c5",
   "metadata": {
    "tags": []
   },
   "outputs": [],
   "source": [
    "categories_oh = ['call_type','origin_stand_agg','year_month']"
   ]
  },
  {
   "cell_type": "code",
   "execution_count": 33,
   "id": "b302a96f",
   "metadata": {},
   "outputs": [
    {
     "data": {
      "text/plain": [
       "Index(['trip_id', 'call_type', 'origin_call', 'origin_stand', 'taxi_id',\n",
       "       'timestamp', 'day_type', 'polyline', 'n_coordinate_points',\n",
       "       'total_flight_time_minutes', 'start_point', 'dest_point', 'final_point',\n",
       "       'total_distance_km', 'sequence', 'timestamp_month', 'timestamp_year',\n",
       "       'year_month', 'origin_stand_agg'],\n",
       "      dtype='object')"
      ]
     },
     "execution_count": 33,
     "metadata": {},
     "output_type": "execute_result"
    }
   ],
   "source": [
    "train_data.columns"
   ]
  },
  {
   "cell_type": "code",
   "execution_count": 34,
   "id": "8a964291",
   "metadata": {
    "tags": []
   },
   "outputs": [],
   "source": [
    "df_fenc_oh = utils.feature_encoding_oh(train_data, categories_oh)\n",
    "train_data = pd.concat([train_data, df_fenc_oh],axis=1)"
   ]
  },
  {
   "cell_type": "code",
   "execution_count": 35,
   "id": "62eb000d",
   "metadata": {
    "tags": []
   },
   "outputs": [],
   "source": [
    "df_fenc_oh = utils.feature_encoding_oh(test_data, categories_oh)\n",
    "test_data = pd.concat([test_data, df_fenc_oh],axis=1)"
   ]
  },
  {
   "cell_type": "code",
   "execution_count": 36,
   "id": "ef1fcabc",
   "metadata": {
    "tags": []
   },
   "outputs": [],
   "source": [
    "test_data, train_data = utils.add_binary_features(train_data, test_data)"
   ]
  },
  {
   "cell_type": "code",
   "execution_count": 37,
   "id": "668ab230",
   "metadata": {
    "tags": []
   },
   "outputs": [],
   "source": [
    "assert(train_data.shape[1] == test_data.shape[1])"
   ]
  },
  {
   "cell_type": "code",
   "execution_count": 38,
   "id": "121bd319",
   "metadata": {
    "tags": []
   },
   "outputs": [],
   "source": [
    "non_features = ['CALL_TYPE','ORIGIN_CALL','ORIGIN_STAND', 'START_POINT','DEST_POINT',\n",
    "                'TIMESTAMP_MONTH','TIMESTAMP_DAY','TIMESTAMP_WEEK','TIMESTAMP_YEAR','YEAR_MONTH','ORIGIN_STAND_agg',\n",
    "               'MISSING_DATA','WEATHER','TAXI_ID','TIMESTAMP_DT','TIMESTAMP']\n",
    "non_features = [non_feature.lower() for non_feature in non_features]"
   ]
  },
  {
   "cell_type": "code",
   "execution_count": 39,
   "id": "0f4fcda7",
   "metadata": {
    "scrolled": true,
    "tags": []
   },
   "outputs": [],
   "source": [
    "train_data = train_data[[column_ for column_ in train_data.columns if column_ not in non_features]]\n",
    "test_data = test_data[[column_ for column_ in train_data.columns if column_ not in non_features]]"
   ]
  },
  {
   "cell_type": "code",
   "execution_count": 40,
   "id": "3bd3bb13",
   "metadata": {
    "tags": []
   },
   "outputs": [],
   "source": [
    "#n_cluster = train_data.CLUSTER_LABEL.nunique()"
   ]
  },
  {
   "cell_type": "code",
   "execution_count": 41,
   "id": "b38c704d",
   "metadata": {},
   "outputs": [
    {
     "name": "stdout",
     "output_type": "stream",
     "text": [
      "<class 'pandas.core.frame.DataFrame'>\n",
      "RangeIndex: 1366762 entries, 0 to 1366761\n",
      "Data columns (total 65 columns):\n",
      " #   Column                     Non-Null Count    Dtype  \n",
      "---  ------                     --------------    -----  \n",
      " 0   trip_id                    1366762 non-null  int64  \n",
      " 1   day_type                   1366762 non-null  object \n",
      " 2   polyline                   1366762 non-null  object \n",
      " 3   n_coordinate_points        1366762 non-null  int64  \n",
      " 4   total_flight_time_minutes  1366762 non-null  float64\n",
      " 5   final_point                1366762 non-null  object \n",
      " 6   total_distance_km          1366762 non-null  float64\n",
      " 7   sequence                   1366762 non-null  object \n",
      " 8   2013_10                    1366762 non-null  float64\n",
      " 9   2013_11                    1366762 non-null  float64\n",
      " 10  2013_12                    1366762 non-null  float64\n",
      " 11  2013_7                     1366762 non-null  float64\n",
      " 12  2013_8                     1366762 non-null  float64\n",
      " 13  2013_9                     1366762 non-null  float64\n",
      " 14  2014_1                     1366762 non-null  float64\n",
      " 15  2014_2                     1366762 non-null  float64\n",
      " 16  2014_3                     1366762 non-null  float64\n",
      " 17  2014_4                     1366762 non-null  float64\n",
      " 18  2014_5                     1366762 non-null  float64\n",
      " 19  2014_6                     1366762 non-null  float64\n",
      " 20  2014_7                     1366762 non-null  float64\n",
      " 21  10.0                       1366762 non-null  float64\n",
      " 22  12.0                       1366762 non-null  float64\n",
      " 23  13.0                       1366762 non-null  float64\n",
      " 24  14.0                       1366762 non-null  float64\n",
      " 25  15.0                       1366762 non-null  float64\n",
      " 26  18.0                       1366762 non-null  float64\n",
      " 27  20.0                       1366762 non-null  float64\n",
      " 28  21.0                       1366762 non-null  float64\n",
      " 29  23.0                       1366762 non-null  float64\n",
      " 30  25.0                       1366762 non-null  float64\n",
      " 31  26.0                       1366762 non-null  float64\n",
      " 32  27.0                       1366762 non-null  float64\n",
      " 33  28.0                       1366762 non-null  float64\n",
      " 34  33.0                       1366762 non-null  float64\n",
      " 35  34.0                       1366762 non-null  float64\n",
      " 36  35.0                       1366762 non-null  float64\n",
      " 37  36.0                       1366762 non-null  float64\n",
      " 38  38.0                       1366762 non-null  float64\n",
      " 39  40.0                       1366762 non-null  float64\n",
      " 40  42.0                       1366762 non-null  float64\n",
      " 41  52.0                       1366762 non-null  float64\n",
      " 42  53.0                       1366762 non-null  float64\n",
      " 43  54.0                       1366762 non-null  float64\n",
      " 44  56.0                       1366762 non-null  float64\n",
      " 45  57.0                       1366762 non-null  float64\n",
      " 46  58.0                       1366762 non-null  float64\n",
      " 47  6.0                        1366762 non-null  float64\n",
      " 48  60.0                       1366762 non-null  float64\n",
      " 49  61.0                       1366762 non-null  float64\n",
      " 50  63.0                       1366762 non-null  float64\n",
      " 51  7.0                        1366762 non-null  float64\n",
      " 52  9.0                        1366762 non-null  float64\n",
      " 53  OTHER                      1366762 non-null  float64\n",
      " 54  A                          1366762 non-null  float64\n",
      " 55  B                          1366762 non-null  float64\n",
      " 56  C                          1366762 non-null  float64\n",
      " 57  16.0                       1366762 non-null  float64\n",
      " 58  2014_10                    1366762 non-null  float64\n",
      " 59  2014_11                    1366762 non-null  float64\n",
      " 60  2014_12                    1366762 non-null  float64\n",
      " 61  2014_8                     1366762 non-null  float64\n",
      " 62  2014_9                     1366762 non-null  float64\n",
      " 63  47.0                       1366762 non-null  float64\n",
      " 64  49.0                       1366762 non-null  float64\n",
      "dtypes: float64(59), int64(2), object(4)\n",
      "memory usage: 677.8+ MB\n"
     ]
    }
   ],
   "source": [
    "train_data.info()"
   ]
  },
  {
   "cell_type": "code",
   "execution_count": 42,
   "id": "0b3685bb",
   "metadata": {
    "scrolled": true,
    "tags": []
   },
   "outputs": [],
   "source": [
    "if is_sagemaker_notebook:\n",
    "    wr.s3.to_parquet(df=train_data, index=train_data.index, path=f's3://think-tank-casestudy/features_engineered/n_cluster_{n_cluster}/feature_engineered_train.parquet')\n",
    "    wr.s3.to_parquet(df=test_data, index=test_data.index, path=f's3://think-tank-casestudy/features_engineered/n_cluster_{n_cluster}/feature_engineered_test.parquet')\n",
    "else:\n",
    "    train_data.to_csv(f'{prefix}/ml-project-taxi-prediction/data/processed/train_data_encoded.csv', header=True, index=False)\n",
    "    test_data.to_csv(f'{prefix}/ml-project-taxi-prediction/data/processed/test_data_encoded.csv', header=True, index=False)\n",
    "    "
   ]
  }
 ],
 "metadata": {
  "kernelspec": {
   "display_name": "Python 3 (ipykernel)",
   "language": "python",
   "name": "python3"
  },
  "language_info": {
   "codemirror_mode": {
    "name": "ipython",
    "version": 3
   },
   "file_extension": ".py",
   "mimetype": "text/x-python",
   "name": "python",
   "nbconvert_exporter": "python",
   "pygments_lexer": "ipython3",
   "version": "3.11.8"
  }
 },
 "nbformat": 4,
 "nbformat_minor": 5
}
