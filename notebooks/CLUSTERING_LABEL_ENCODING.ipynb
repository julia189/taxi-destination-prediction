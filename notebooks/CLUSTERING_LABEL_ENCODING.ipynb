{
 "cells": [
  {
   "cell_type": "markdown",
   "id": "d0cbb67f",
   "metadata": {},
   "source": [
    "1) Multi-regression output problem --> predict two labels: longitude and latitude\n",
    "\n",
    "2) Re-write problem as multi-class problem through clustering\n",
    "To define the classes, the last points per trip from the training data will be divided into clusters. When we have a large enough number of clusters, the clusters should be small enough to have their points close to their centroids. \n",
    "\n",
    "K-Means is a good approach as it minimizes the sum of squared distances within the cluster. Also it scales well to a large number of clusters. \n",
    "\n",
    "So the approach then predicts: **Probability of final destination of a trip being located in a specific cluster**\n",
    "\n",
    "Steps:\n",
    "- Get optimal number of clusters with help of interia\n",
    "- Generate clusters with K-Means for each trip in training data\n",
    "- Predict cluster for each trip in testing data\n",
    "- Get centroids for each cluster \n",
    "- Calculate distance from points in cluster to centroid to evaluate"
   ]
  },
  {
   "cell_type": "code",
   "execution_count": 1,
   "id": "883f9d2c",
   "metadata": {
    "tags": []
   },
   "outputs": [
    {
     "ename": "ModuleNotFoundError",
     "evalue": "No module named 'dask'",
     "output_type": "error",
     "traceback": [
      "\u001b[0;31m---------------------------------------------------------------------------\u001b[0m",
      "\u001b[0;31mModuleNotFoundError\u001b[0m                       Traceback (most recent call last)",
      "\u001b[1;32m/Users/Q619505/PycharmProjects/personal-projects/ml-project-taxi-prediction/notebooks/CLUSTERING_LABEL_ENCODING.ipynb Cell 2\u001b[0m line \u001b[0;36m1\n\u001b[1;32m     <a href='vscode-notebook-cell:/Users/Q619505/PycharmProjects/personal-projects/ml-project-taxi-prediction/notebooks/CLUSTERING_LABEL_ENCODING.ipynb#W3sZmlsZQ%3D%3D?line=12'>13</a>\u001b[0m \u001b[39mimport\u001b[39;00m \u001b[39mrandom\u001b[39;00m\n\u001b[1;32m     <a href='vscode-notebook-cell:/Users/Q619505/PycharmProjects/personal-projects/ml-project-taxi-prediction/notebooks/CLUSTERING_LABEL_ENCODING.ipynb#W3sZmlsZQ%3D%3D?line=13'>14</a>\u001b[0m \u001b[39mfrom\u001b[39;00m \u001b[39msklearn\u001b[39;00m\u001b[39m.\u001b[39;00m\u001b[39mcluster\u001b[39;00m \u001b[39mimport\u001b[39;00m KMeans\n\u001b[0;32m---> <a href='vscode-notebook-cell:/Users/Q619505/PycharmProjects/personal-projects/ml-project-taxi-prediction/notebooks/CLUSTERING_LABEL_ENCODING.ipynb#W3sZmlsZQ%3D%3D?line=14'>15</a>\u001b[0m \u001b[39mimport\u001b[39;00m \u001b[39mdask\u001b[39;00m\u001b[39m.\u001b[39;00m\u001b[39marray\u001b[39;00m \u001b[39mas\u001b[39;00m \u001b[39mda\u001b[39;00m\n\u001b[1;32m     <a href='vscode-notebook-cell:/Users/Q619505/PycharmProjects/personal-projects/ml-project-taxi-prediction/notebooks/CLUSTERING_LABEL_ENCODING.ipynb#W3sZmlsZQ%3D%3D?line=15'>16</a>\u001b[0m \u001b[39mfrom\u001b[39;00m \u001b[39mdask_ml\u001b[39;00m \u001b[39mimport\u001b[39;00m cluster\n\u001b[1;32m     <a href='vscode-notebook-cell:/Users/Q619505/PycharmProjects/personal-projects/ml-project-taxi-prediction/notebooks/CLUSTERING_LABEL_ENCODING.ipynb#W3sZmlsZQ%3D%3D?line=16'>17</a>\u001b[0m \u001b[39mfrom\u001b[39;00m \u001b[39msklearn\u001b[39;00m\u001b[39m.\u001b[39;00m\u001b[39mpipeline\u001b[39;00m \u001b[39mimport\u001b[39;00m Pipeline\n",
      "\u001b[0;31mModuleNotFoundError\u001b[0m: No module named 'dask'"
     ]
    }
   ],
   "source": [
    "import os\n",
    "import sys\n",
    "import pandas as pd\n",
    "import numpy as np\n",
    "import datetime\n",
    "from datetime import datetime\n",
    "import time\n",
    "import json\n",
    "import matplotlib.pyplot as plt\n",
    "import seaborn as sns\n",
    "import sklearn\n",
    "import awswrangler as wr\n",
    "import random\n",
    "from sklearn.cluster import KMeans\n",
    "import dask.array as da\n",
    "from dask_ml import cluster\n",
    "from sklearn.pipeline import Pipeline\n",
    "from sklearn.preprocessing import StandardScaler"
   ]
  },
  {
   "cell_type": "code",
   "execution_count": 8,
   "id": "c8a5d153-9da9-4847-9cbe-c03e916f8aec",
   "metadata": {
    "tags": []
   },
   "outputs": [],
   "source": [
    "is_sagemaker_notebook = False"
   ]
  },
  {
   "cell_type": "code",
   "execution_count": 9,
   "id": "d4d63b57",
   "metadata": {},
   "outputs": [],
   "source": [
    "if is_sagemaker_notebook:\n",
    "    prefix = \"/home/ec2-user/SageMaker\"\n",
    "else:\n",
    "    prefix = \"/Users/Q619505/PycharmProjects/personal-projects\"\n",
    "\n",
    "utils_path = os.path.join(f'{prefix}/ml-project-taxi-prediction/src/utils/')\n",
    "pp_path = os.path.join(f'{prefix}/ml-project-taxi-prediction/src/preprocessing')\n",
    "\n",
    "if utils_path not in sys.path:\n",
    "    sys.path.append(utils_path)\n",
    "\n",
    "if pp_path not in sys.path:\n",
    "    sys.path.append(pp_path)"
   ]
  },
  {
   "cell_type": "code",
   "execution_count": 10,
   "id": "a73853fa",
   "metadata": {
    "tags": []
   },
   "outputs": [],
   "source": [
    "from utils import *"
   ]
  },
  {
   "cell_type": "code",
   "execution_count": 11,
   "id": "d612d9e3",
   "metadata": {
    "tags": []
   },
   "outputs": [],
   "source": [
    "test_data = pd.read_csv(f'{prefix}/ml-project-taxi-prediction/data/processed/test_data.csv')\n",
    "train_data = pd.read_csv(f'{prefix}/ml-project-taxi-prediction/data/processed/train_data.csv')"
   ]
  },
  {
   "cell_type": "code",
   "execution_count": 12,
   "id": "66fb203e",
   "metadata": {
    "tags": []
   },
   "outputs": [],
   "source": [
    "def extract_lat_lon(data, column_):\n",
    "    data[column_+'_lon'] = data[column_].apply(lambda value: value[0])\n",
    "    data[column_+'_lat'] = data[column_].apply(lambda value: value[1])\n",
    "    return data"
   ]
  },
  {
   "cell_type": "code",
   "execution_count": 13,
   "id": "c7758bbd",
   "metadata": {
    "tags": []
   },
   "outputs": [],
   "source": [
    "train_data = extract_lat_lon(train_data,'start_point')\n",
    "test_data = extract_lat_lon(test_data,'start_point')\n",
    "\n",
    "train_data = extract_lat_lon(train_data,'dest_point')\n",
    "test_data = extract_lat_lon(test_data,'dest_point')"
   ]
  },
  {
   "cell_type": "code",
   "execution_count": 14,
   "id": "91865d31",
   "metadata": {
    "scrolled": true,
    "tags": []
   },
   "outputs": [
    {
     "ename": "NameError",
     "evalue": "name 'da' is not defined",
     "output_type": "error",
     "traceback": [
      "\u001b[0;31m---------------------------------------------------------------------------\u001b[0m",
      "\u001b[0;31mNameError\u001b[0m                                 Traceback (most recent call last)",
      "\u001b[1;32m/Users/Q619505/PycharmProjects/personal-projects/ml-project-taxi-prediction/notebooks/CLUSTERING_LABEL_ENCODING.ipynb Cell 9\u001b[0m line \u001b[0;36m3\n\u001b[1;32m      <a href='vscode-notebook-cell:/Users/Q619505/PycharmProjects/personal-projects/ml-project-taxi-prediction/notebooks/CLUSTERING_LABEL_ENCODING.ipynb#X15sZmlsZQ%3D%3D?line=0'>1</a>\u001b[0m X \u001b[39m=\u001b[39m np\u001b[39m.\u001b[39mvstack(train_data\u001b[39m.\u001b[39mdest_point)\n\u001b[1;32m      <a href='vscode-notebook-cell:/Users/Q619505/PycharmProjects/personal-projects/ml-project-taxi-prediction/notebooks/CLUSTERING_LABEL_ENCODING.ipynb#X15sZmlsZQ%3D%3D?line=1'>2</a>\u001b[0m \u001b[39m# transform destintion point to dask format\u001b[39;00m\n\u001b[0;32m----> <a href='vscode-notebook-cell:/Users/Q619505/PycharmProjects/personal-projects/ml-project-taxi-prediction/notebooks/CLUSTERING_LABEL_ENCODING.ipynb#X15sZmlsZQ%3D%3D?line=2'>3</a>\u001b[0m X_da \u001b[39m=\u001b[39m da\u001b[39m.\u001b[39mfrom_array(X)\n",
      "\u001b[0;31mNameError\u001b[0m: name 'da' is not defined"
     ]
    }
   ],
   "source": [
    "X = np.vstack(train_data.dest_point)\n",
    "# transform destintion point to dask format\n",
    "X_da = da.from_array(X)"
   ]
  },
  {
   "cell_type": "markdown",
   "id": "c651170a-fa13-41f1-bb9e-dcb595a39951",
   "metadata": {},
   "source": [
    "- Inertia/sum of squared distance shows still significant reduction for 4000 clusters, therefore choose n_clusters = 4000\n",
    "- Due to high execution time more iterations are not considered"
   ]
  },
  {
   "cell_type": "code",
   "execution_count": 17,
   "id": "67014015",
   "metadata": {
    "tags": []
   },
   "outputs": [],
   "source": [
    "#inertia_per_k = [(k, KMeans(n_clusters=k, init='k-means++', verbose=True, random_state=1).fit(X_da).inertia_)\n",
    "#  for k in range(1000,5000,1000)]"
   ]
  },
  {
   "cell_type": "markdown",
   "id": "866260be-69fa-429a-9501-3ece308bcf57",
   "metadata": {},
   "source": [
    "One iteration is sufficient as single points need to be clustered, the nature of the data already provides the clusters"
   ]
  },
  {
   "cell_type": "code",
   "execution_count": 19,
   "id": "e5e134c3",
   "metadata": {
    "tags": []
   },
   "outputs": [],
   "source": [
    "random.seed(5)"
   ]
  },
  {
   "cell_type": "code",
   "execution_count": 20,
   "id": "9a745a54",
   "metadata": {
    "tags": []
   },
   "outputs": [],
   "source": [
    "pipe = Pipeline([('scaler', StandardScaler()),\n",
    "                 ('clustering', KMeans(n_clusters = 4000,\n",
    "                                       init ='k-means++',\n",
    "                                       n_init = 1, \n",
    "                                       verbose=True,\n",
    "                                       random_state=1\n",
    "                                      )\n",
    "                 )])"
   ]
  },
  {
   "cell_type": "code",
   "execution_count": 21,
   "id": "1971b746",
   "metadata": {
    "scrolled": true,
    "tags": []
   },
   "outputs": [
    {
     "name": "stderr",
     "output_type": "stream",
     "text": [
      "/home/ec2-user/anaconda3/envs/python3/lib/python3.10/site-packages/dask/array/core.py:1712: FutureWarning: The `numpy.may_share_memory` function is not implemented by Dask array. You may want to use the da.map_blocks function or something similar to silence this warning. Your code may stop working in a future release.\n",
      "  warnings.warn(\n"
     ]
    },
    {
     "name": "stdout",
     "output_type": "stream",
     "text": [
      "Initialization complete\n",
      "Iteration 0, inertia 548.5433659924788.\n",
      "Iteration 1, inertia 455.5509319150276.\n",
      "Iteration 2, inertia 441.4589416753232.\n",
      "Iteration 3, inertia 435.7495666508733.\n",
      "Iteration 4, inertia 432.5476963884232.\n",
      "Iteration 5, inertia 430.35455517226444.\n",
      "Iteration 6, inertia 428.83351532189045.\n",
      "Iteration 7, inertia 427.8266366591207.\n",
      "Iteration 8, inertia 427.0414523395926.\n",
      "Iteration 9, inertia 426.4170854620295.\n",
      "Iteration 10, inertia 425.9816252673917.\n",
      "Iteration 11, inertia 425.6402398428013.\n",
      "Iteration 12, inertia 425.38834748220006.\n",
      "Iteration 13, inertia 425.1719719739077.\n",
      "Iteration 14, inertia 424.98951700417706.\n",
      "Iteration 15, inertia 424.8257308177166.\n",
      "Iteration 16, inertia 424.643454794431.\n",
      "Iteration 17, inertia 424.42871774675757.\n",
      "Iteration 18, inertia 424.2294680060612.\n",
      "Iteration 19, inertia 424.04677327233935.\n",
      "Iteration 20, inertia 423.89057947915904.\n",
      "Iteration 21, inertia 423.755480559005.\n",
      "Iteration 22, inertia 423.65331503615204.\n",
      "Iteration 23, inertia 423.57514261638465.\n",
      "Iteration 24, inertia 423.48715569987183.\n",
      "Iteration 25, inertia 423.38577139360405.\n",
      "Iteration 26, inertia 423.2954615596904.\n",
      "Iteration 27, inertia 423.22844538558206.\n",
      "Converged at iteration 27: center shift 8.865389855417705e-05 within tolerance 0.00010000000000001269.\n"
     ]
    },
    {
     "ename": "IndexError",
     "evalue": "only integers, slices (`:`), ellipsis (`...`), numpy.newaxis (`None`) and integer or boolean arrays are valid indices",
     "output_type": "error",
     "traceback": [
      "\u001b[0;31m---------------------------------------------------------------------------\u001b[0m",
      "\u001b[0;31mIndexError\u001b[0m                                Traceback (most recent call last)",
      "Cell \u001b[0;32mIn[21], line 1\u001b[0m\n\u001b[0;32m----> 1\u001b[0m \u001b[43mX\u001b[49m\u001b[43m[\u001b[49m\u001b[38;5;124;43m'\u001b[39;49m\u001b[38;5;124;43mcluster_label\u001b[39;49m\u001b[38;5;124;43m'\u001b[39;49m\u001b[43m]\u001b[49m \u001b[38;5;241m=\u001b[39m pipe\u001b[38;5;241m.\u001b[39mfit_predict(X_da)\n\u001b[1;32m      2\u001b[0m centers_scaled \u001b[38;5;241m=\u001b[39m pipe[\u001b[38;5;241m1\u001b[39m]\u001b[38;5;241m.\u001b[39mcluster_centers_\n",
      "\u001b[0;31mIndexError\u001b[0m: only integers, slices (`:`), ellipsis (`...`), numpy.newaxis (`None`) and integer or boolean arrays are valid indices"
     ]
    }
   ],
   "source": [
    "X['cluster_label'] = pipe.fit_predict(X_da)\n",
    "centers_scaled = pipe[1].cluster_centers_"
   ]
  },
  {
   "cell_type": "code",
   "execution_count": 19,
   "id": "bc1b8546",
   "metadata": {
    "tags": []
   },
   "outputs": [],
   "source": [
    "centers = pipe[0].inverse_transform(centers_scaled)"
   ]
  },
  {
   "cell_type": "code",
   "execution_count": 20,
   "id": "4f297593",
   "metadata": {
    "tags": []
   },
   "outputs": [],
   "source": [
    "centers = pd.DataFrame(centers, columns=['CENTER_LON','CENTER_LAT'])"
   ]
  },
  {
   "cell_type": "code",
   "execution_count": 21,
   "id": "966d4aa2",
   "metadata": {
    "tags": []
   },
   "outputs": [],
   "source": [
    "centers = centers.reset_index()"
   ]
  },
  {
   "cell_type": "code",
   "execution_count": 22,
   "id": "1accd1d2",
   "metadata": {
    "tags": []
   },
   "outputs": [
    {
     "data": {
      "image/png": "[encoded data removed]",
      "text/plain": [
       "<Figure size 640x480 with 1 Axes>"
      ]
     },
     "metadata": {},
     "output_type": "display_data"
    }
   ],
   "source": [
    "plt.hist(X.cluster_label)\n",
    "plt.show()"
   ]
  },
  {
   "cell_type": "code",
   "execution_count": 23,
   "id": "3e6e0fdf",
   "metadata": {
    "scrolled": true,
    "tags": []
   },
   "outputs": [
    {
     "name": "stderr",
     "output_type": "stream",
     "text": [
      "/home/ec2-user/anaconda3/envs/python3/lib/python3.10/site-packages/dask/array/core.py:1712: FutureWarning: The `numpy.may_share_memory` function is not implemented by Dask array. You may want to use the da.map_blocks function or something similar to silence this warning. Your code may stop working in a future release.\n",
      "  warnings.warn(\n",
      "/tmp/ipykernel_8693/1233280834.py:3: SettingWithCopyWarning: \n",
      "A value is trying to be set on a copy of a slice from a DataFrame.\n",
      "Try using .loc[row_indexer,col_indexer] = value instead\n",
      "\n",
      "See the caveats in the documentation: https://pandas.pydata.org/pandas-docs/stable/user_guide/indexing.html#returning-a-view-versus-a-copy\n",
      "  X_test['CLUSTER_LABEL'] = pipe.predict(X_da_test)\n"
     ]
    }
   ],
   "source": [
    "X_test = test_data[test_data.columns[-3:-1]]\n",
    "X_da_test = da.from_array(np.array(X_test))\n",
    "X_test['CLUSTER_LABEL'] = pipe.predict(X_da_test)"
   ]
  },
  {
   "cell_type": "code",
   "execution_count": 24,
   "id": "10ac51df",
   "metadata": {
    "tags": []
   },
   "outputs": [],
   "source": [
    "train_data['CLUSTER_LABEL'] = X['cluster_label']\n",
    "test_data['CLUSTER_LABEL'] = X_test['CLUSTER_LABEL']\n",
    "\n",
    "test_data = pd.merge(test_data, centers[['index','CENTER_LON','CENTER_LAT']], \n",
    "                           how='left', \n",
    "                           left_on='CLUSTER_LABEL',\n",
    "                           right_on='index')\n",
    "train_data = pd.merge(train_data, centers[['index','CENTER_LON','CENTER_LAT']], \n",
    "                           how='left', \n",
    "                           left_on='CLUSTER_LABEL',\n",
    "                           right_on='index')"
   ]
  },
  {
   "cell_type": "code",
   "execution_count": 25,
   "id": "9833cad9",
   "metadata": {
    "tags": []
   },
   "outputs": [],
   "source": [
    "n_cluster = train_data.CLUSTER_LABEL.nunique()"
   ]
  },
  {
   "cell_type": "code",
   "execution_count": 26,
   "id": "7bfaf635",
   "metadata": {
    "tags": []
   },
   "outputs": [
    {
     "data": {
      "text/plain": [
       "{'paths': ['s3://think-tank-casestudy/preprocessed_data/n_cluster_4000/test_data_clustered.parquet'],\n",
       " 'partitions_values': {}}"
      ]
     },
     "execution_count": 26,
     "metadata": {},
     "output_type": "execute_result"
    }
   ],
   "source": [
    "wr.s3.to_parquet(df=train_data, path=f's3://think-tank-casestudy/preprocessed_data/n_cluster_{n_cluster}/train_data_clustered.parquet')\n",
    "wr.s3.to_parquet(df=test_data, path=f's3://think-tank-casestudy/preprocessed_data/n_cluster_{n_cluster}/test_data_clustered.parquet')"
   ]
  }
 ],
 "metadata": {
  "kernelspec": {
   "display_name": "thinktank-casestudy-yNPFvyw0-py3.9",
   "language": "python",
   "name": "python3"
  },
  "language_info": {
   "codemirror_mode": {
    "name": "ipython",
    "version": 3
   },
   "file_extension": ".py",
   "mimetype": "text/x-python",
   "name": "python",
   "nbconvert_exporter": "python",
   "pygments_lexer": "ipython3",
   "version": "3.9.18"
  }
 },
 "nbformat": 4,
 "nbformat_minor": 5
}
