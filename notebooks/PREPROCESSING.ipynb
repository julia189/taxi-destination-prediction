{
 "cells": [
  {
   "cell_type": "markdown",
   "id": "f83d6a38",
   "metadata": {
    "jp-MarkdownHeadingCollapsed": true
   },
   "source": [
    "### 0.1 Case Study\n",
    "\n",
    "#### Scenario\n",
    "At BMW, we reimagine the future of mobility. Lets fast forward to 2030, and flying taxis are roaming above our cities, bringing people to\n",
    "their desired destination. You work for, Duoro Hawk a company that is pioneering the world's first large fleet of fully electric, self-piloting\n",
    "autonomous flying taxis. The company wants to deploy the first network of autonomous air taxis in the coming year. As part of our data\n",
    "science and enginering team, you are responsible for predicting the destination of our fleet of autonomous flying taxis based on the\n",
    "manned test flights that have been performed.\n",
    "\n",
    "#### About the Dataset\n",
    "A fictional dataset describing a complete year (from 01/07/2014 to 30/06/2014) of all the trajectories for all 442 of our flying taxis that\n",
    "were simulated in the city of Porto. Our autonomous fleet of taxis fly from a central ground station\n",
    "• There are three different types of rides: A) phone call-based, B) stand-based where people wait at a stand for their flying taxi or C) \n",
    "random place. For type A, we provide an anonymized ID, to represent the telephone call. Categories B and C refers to cases where the\n",
    "taxis were directly called by the customer.\n",
    "\n",
    "#### Dataset\n",
    "##### train.csv\n",
    "Each data sample corresponds to one completed trip. It contains a total of 9 (nine) features, described as follows:\n",
    "\n",
    "- TRIP_ID: (String) It contains an unique identifier for each trip;\n",
    "\n",
    "- CALL_TYPE: (char) It identifies the way used to demand this service. It may contain one of three possible values:\n",
    "     - ‘A’ if this trip was dispatched from the central;\n",
    "     - ‘B’ if this trip was demanded directly to a taxi driver on a specific stand;\n",
    "     - ‘C’ otherwise (i.e. a trip demanded on a random street).\n",
    "     \n",
    "- ORIGIN_CALL: (integer) It contains an unique identifier for each phone number which was used to demand, at least, one service. It identifies the trip’s customer if CALLTYPE=’A’. Otherwise, it assumes a NULL value;\n",
    "\n",
    "- ORIGINSTAND: (integer): It contains an unique identifier for the taxi stand. It identifies the starting point of the trip if CALLTYPE=’B’. Otherwise, it assumes a NULL value;\n",
    "\n",
    "- WEATHER: (String): Information on the weather that day, unique values include: Sunny, Rainy, Cloudy, Windy, and Foggy\n",
    "- TAXI_ID: (integer): It contains an unique identifier for the flying taxi that performed each trip;\n",
    "- TIMESTAMP: (integer) Unix Timestamp (in seconds). It identifies the trip’s start;\n",
    "- MISSING_DATA: (Boolean) It is FALSE when the GPS data stream is complete and TRUE whenever one (or more) locations are missing\n",
    "- POLYLINE: (String): It contains a list of GPS coordinates (i.e. WGS84 format) mapped as a string. The beginning and the end of the string are identified with brackets (i.e. [ and ], respectively). Each pair of coordinates is also identified by the same brackets as\n",
    "- [LONGITUDE, LATITUDE]. This list contains one pair of coordinates for each 15 seconds of trip. The last list item corresponds to the trip’s destination while the first one represents its start\n",
    "\n",
    "\n",
    "##### test.csv\n",
    "Personal records for the remaining one-third (~110) of the trips, to be used as test data. Your task is to predict the value of coordinates of the trip‘s destination\n",
    "\n",
    "##### sample_submission.csv \n",
    "A submission file in the correct format.\n",
    "- TripId - Id for each Tip in the test set\n",
    "- Longitude - the longitude of the destination of the flying taxi\n",
    "- Latitude – the latitude of the destination of the flying taxi\n",
    "\n",
    "The total travel time of the trip (the prediction target of this competition) is defined as the (number of points-1) x 15 seconds. For example, a trip with 101 data points in POLYLINE has a length of (101-1) * 15 = 1500 seconds. Some trips have missing data points in POLYLINE, indicated by MISSING_DATA column, and it is part of the challenge how you utilize this knowledge."
   ]
  },
  {
   "cell_type": "markdown",
   "id": "6c11c59d",
   "metadata": {},
   "source": [
    "### Imports"
   ]
  },
  {
   "cell_type": "code",
   "execution_count": 1,
   "id": "fc49bb0d-54f4-4b27-ba92-197b9f9245b7",
   "metadata": {
    "tags": []
   },
   "outputs": [],
   "source": [
    "import os\n",
    "import sys\n",
    "import pandas as pd\n",
    "import numpy as np\n",
    "import datetime\n",
    "from datetime import datetime\n",
    "import time\n",
    "import json\n",
    "import awswrangler as aw\n",
    "import geojson\n",
    "from shapely import geometry\n",
    "import matplotlib.pyplot as plt\n",
    "import seaborn as sns\n",
    "from zipfile import ZipFile "
   ]
  },
  {
   "cell_type": "code",
   "execution_count": 2,
   "id": "55465a0a",
   "metadata": {
    "tags": []
   },
   "outputs": [],
   "source": [
    "is_sagemaker_notebook = False"
   ]
  },
  {
   "cell_type": "code",
   "execution_count": 3,
   "id": "e9ca2c20-80e5-417a-898f-f655838fc693",
   "metadata": {
    "tags": []
   },
   "outputs": [],
   "source": [
    "if is_sagemaker_notebook:\n",
    "    prefix = \"/home/ec2-user/SageMaker\"\n",
    "else:\n",
    "    prefix =  prefix = \"/Users/Q619505/PycharmProjects/personal-projects/taxi-destination-prediction\"\n",
    "\n",
    "utils_path = os.path.join(f'{prefix}/src/utils/')\n",
    "pp_path = os.path.join(f'{prefix}src/preprocessing/')\n",
    "\n",
    "if utils_path not in sys.path:\n",
    "    sys.path.append(utils_path)\n",
    "\n",
    "if pp_path not in sys.path:\n",
    "    sys.path.append(pp_path)"
   ]
  },
  {
   "cell_type": "code",
   "execution_count": 4,
   "id": "b58a018a-1467-48fa-a9ad-975d7935f9b2",
   "metadata": {
    "scrolled": true,
    "tags": []
   },
   "outputs": [],
   "source": [
    "from utils import convert_datatypes\n",
    "from geo_spatial import convert_polyline_to_geojson_format, calculate_polyline_features, haversine_distance, calculate_total_distance\n",
    "from data_cleaning import *"
   ]
  },
  {
   "cell_type": "markdown",
   "id": "ac948fb9",
   "metadata": {},
   "source": [
    "### Load Data"
   ]
  },
  {
   "cell_type": "code",
   "execution_count": 5,
   "id": "34ffaf14-9691-42eb-9fef-da502c836a63",
   "metadata": {
    "tags": []
   },
   "outputs": [],
   "source": [
    "if is_sagemaker_notebook:\n",
    "        train_data = pd.read_parquet('s3://think-tank-casestudy/raw_data/train_df.parquet')\n",
    "        test_data = pd.read_parquet('s3://think-tank-casestudy/raw_data/test_df.parquet')\n",
    "else:\n",
    "    try:\n",
    "        test_data = pd.read_csv(f'{prefix}/ml-project-taxi-prediction/data/raw/test.csv')\n",
    "        train_data = pd.read_csv(f'{prefix}/ml-project-taxi-prediction/data/raw/train.csv')\n",
    "    except:\n",
    "        with ZipFile(f\"{prefix}/ml-project-taxi-prediction/data/raw/pkdd-15-predict-taxi-service-trajectory-i.zip\", 'r') as zObject: \n",
    "            zObject.extractall(path=f\"{prefix}/ml-project-taxi-prediction/data/raw\")\n",
    "        with ZipFile(f\"{prefix}/ml-project-taxi-prediction/data/raw/test.csv.zip\", 'r') as test_file:\n",
    "            test_file.extractall(path=f\"{prefix}/ml-project-taxi-prediction/data/raw\")\n",
    "        with ZipFile(f\"{prefix}/ml-project-taxi-prediction/data/raw/train.csv.zip\", 'r') as train_file:\n",
    "            train_file.extractall(path=f\"{prefix}/ml-project-taxi-prediction/data/raw\")          "
   ]
  },
  {
   "cell_type": "markdown",
   "id": "9b5f8a89-5dfe-4691-a369-f8de9d455d6e",
   "metadata": {},
   "source": [
    "#### Dropping unuseful columns \n",
    "- **Unnamed: 0** column is default index and not appropriately named\n",
    "- **DAY_TYPE** column is deterministic, therefore will not add any value/information gain to an ML approach"
   ]
  },
  {
   "cell_type": "code",
   "execution_count": 6,
   "id": "6ddc0174-1ddc-49e8-9ba7-3713d168aa31",
   "metadata": {
    "tags": []
   },
   "outputs": [
    {
     "name": "stdout",
     "output_type": "stream",
     "text": [
      "\"['Unnamed: 0'] not found in axis\"\n"
     ]
    }
   ],
   "source": [
    "try:\n",
    "    train_data = train_data.drop(['Unnamed: 0'], axis=1)\n",
    "    train_data = train_data.drop(['DAY_TYPE'], axis=1)\n",
    "    test_data = test_data.drop(['DAY_TYPE'], axis=1)\n",
    "except Exception as e:\n",
    "    print(e)"
   ]
  },
  {
   "cell_type": "markdown",
   "id": "342974f7-e3f9-4ffd-af71-28a5fa581b98",
   "metadata": {},
   "source": [
    "#### Converting column names\n",
    "Converting columns names to lowercase as more appropriate to formatting standards"
   ]
  },
  {
   "cell_type": "code",
   "execution_count": 7,
   "id": "83748c04-a4ee-46d7-83dc-e05cbdf0c7a9",
   "metadata": {
    "tags": []
   },
   "outputs": [],
   "source": [
    "train_data.columns = [column_.lower() for column_ in train_data.columns]\n",
    "test_data.columns = [column_.lower() for column_ in test_data.columns]"
   ]
  },
  {
   "cell_type": "markdown",
   "id": "dfd3fe78-a061-4723-9529-41faeeb79e4e",
   "metadata": {},
   "source": [
    "#### Converting datatypes \n",
    "- **TRIP_ID** object type in python is appropriate to string\n",
    "- **CALL_TYPE** object type in python is appropriate to char\n",
    "- **ORIGIN_CALL** integer type --> int\n",
    "- **ORIGIN_STAND** object type in python is appropriate to string\n",
    "- **WEATHER** object type in python is appropriate to string\n",
    "- **TAXI_ID** integer type --> int\n",
    "- **TIMESTAMP** Unix Timestamps --> convert to datetime timestamp\n",
    "- **MISSING_DATA** boolean --> bool \n",
    "- **POLYLINE** String --> convert to geojson format for proper future processing"
   ]
  },
  {
   "cell_type": "code",
   "execution_count": 8,
   "id": "2e1ae877-65cf-4ff6-b14e-90b2fd5c0ce1",
   "metadata": {
    "tags": []
   },
   "outputs": [],
   "source": [
    "train_data = convert_polyline_to_geojson_format(data=train_data, name_column='polyline')\n",
    "test_data = convert_polyline_to_geojson_format(data=test_data, name_column='polyline')"
   ]
  },
  {
   "cell_type": "code",
   "execution_count": 9,
   "id": "561d0880-cc5e-447f-8837-e763124f0fc9",
   "metadata": {
    "tags": []
   },
   "outputs": [],
   "source": [
    "columns_datatypes_dict = {\n",
    "    'trip_id': 'object',\n",
    "    'call_type': 'object',\n",
    "    'origin_call': 'object',\n",
    "    'origin_stand': 'object',\n",
    "    'taxi_id': 'object',\n",
    "    'timestamp': 'datetime',\n",
    "}"
   ]
  },
  {
   "cell_type": "code",
   "execution_count": 10,
   "id": "cf612ce7-3570-4f11-b866-c6bc1221e9cd",
   "metadata": {
    "tags": []
   },
   "outputs": [],
   "source": [
    "train_data = convert_datatypes(data=train_data.copy(), columns_datatypes_dict=columns_datatypes_dict)\n",
    "test_data = convert_datatypes(data=test_data.copy(), columns_datatypes_dict=columns_datatypes_dict)"
   ]
  },
  {
   "cell_type": "markdown",
   "id": "8077d4e7-d965-4022-9418-8b5f854a51c4",
   "metadata": {
    "tags": []
   },
   "source": [
    "All dates are in previously defined valid ranges"
   ]
  },
  {
   "cell_type": "code",
   "execution_count": 11,
   "id": "3e81075f",
   "metadata": {
    "tags": []
   },
   "outputs": [
    {
     "name": "stdout",
     "output_type": "stream",
     "text": [
      "2013-07-01 02:00:53\n",
      "2014-07-01 01:59:56\n",
      "2014-08-14 18:02:23\n",
      "2014-12-21 15:29:19\n"
     ]
    }
   ],
   "source": [
    "print(train_data.timestamp.min())\n",
    "print(train_data.timestamp.max())\n",
    "print(test_data.timestamp.min())\n",
    "print(test_data.timestamp.max())"
   ]
  },
  {
   "cell_type": "markdown",
   "id": "979ffd92-8d2c-4a25-9da3-7d153d8cef8a",
   "metadata": {
    "tags": []
   },
   "source": [
    "### Partition Data\n",
    "partitioning the data to reuse it for productive pipeline later on"
   ]
  },
  {
   "cell_type": "code",
   "execution_count": 12,
   "id": "54d2ed09-ab7d-4a9c-96ef-cbf1be847f38",
   "metadata": {
    "tags": []
   },
   "outputs": [],
   "source": [
    "# concatenate data\n",
    "df = pd.concat([train_data, test_data], axis=0)\n",
    "\n",
    "# add partitioning columns\n",
    "df['month'] = df.timestamp.dt.month\n",
    "df['day'] = df.timestamp.dt.day\n",
    "df['year'] = df.timestamp.dt.year\n",
    "\n",
    "# create partitioned parquet files\n",
    "if is_sagemaker_notebook:\n",
    "    df.to_parquet(\n",
    "        index=False,\n",
    "        path=\"s3://test-database-jh/data/ingestion_data/trips_partitioned/\",\n",
    "        partition_cols=['year', 'month', 'day']\n",
    "    )"
   ]
  },
  {
   "cell_type": "markdown",
   "id": "ec3dc64f",
   "metadata": {},
   "source": [
    "### Sanity Checks\n",
    "Assert that train and test data have same column shape\n",
    "and that the trip id is in fact unique identifier of the record"
   ]
  },
  {
   "cell_type": "code",
   "execution_count": 13,
   "id": "24d68863",
   "metadata": {
    "tags": []
   },
   "outputs": [
    {
     "name": "stdout",
     "output_type": "stream",
     "text": [
      "Column shape train vs test passed\n",
      "Column naming train vs test passed\n",
      "Sanity Check failed\n"
     ]
    }
   ],
   "source": [
    "try:\n",
    "    assert(train_data.shape[1] == test_data.shape[1])\n",
    "    print(\"Column shape train vs test passed\")\n",
    "    assert((train_data.columns == test_data.columns).all())\n",
    "    print(\"Column naming train vs test passed\")\n",
    "    assert(train_data.trip_id.nunique() == train_data.shape[0])\n",
    "    print(\"Check for unique trips passed - train data\")\n",
    "    assert(test_data.trip_id.nunique() == test_data.shape[0])\n",
    "    print(\"Check for unique trips passed - test data\")\n",
    "    print('All checks passed!')\n",
    "except:\n",
    "    print(\"Sanity Check failed\")"
   ]
  },
  {
   "cell_type": "markdown",
   "id": "f5377f66",
   "metadata": {
    "tags": []
   },
   "source": [
    "### Cleaning Data\n",
    "- Check showed that trip_id is not unique, so further investigation is needed\n",
    "- Checking on nan/null value \n",
    "- specific cleaning tasks to the geospatial data (polyline):\n",
    "    - Cleaning trips with no POLYLINE or only one coordinate point are assumed invalid and filtered from the dataset\n",
    "    - Assumption that only POLYLINEs with at least 10 coordinate points are interesting "
   ]
  },
  {
   "cell_type": "code",
   "execution_count": 14,
   "id": "cfcf96ef-6ae1-42f2-a2cc-b76b464b14be",
   "metadata": {
    "tags": []
   },
   "outputs": [
    {
     "name": "stdout",
     "output_type": "stream",
     "text": [
      "Train data: 80 trip ids are duplicated\n",
      "Train data: 0.0046767516919610725 % out of all unique TRIPs.\n",
      "Test data: 0 trip ids are duplicated\n",
      "Test data: 0.0 % out of all unique TRIPs.\n"
     ]
    }
   ],
   "source": [
    "duplicated_trip_ids = train_data[train_data.trip_id.map(train_data.trip_id.value_counts()) > 1].trip_id.unique()\n",
    "\n",
    "print(f'Train data: {len(duplicated_trip_ids)} trip ids are duplicated')\n",
    "print(f'Train data: {(len(duplicated_trip_ids)/train_data.trip_id.nunique()*100)} % out of all unique TRIPs.')\n",
    "\n",
    "duplicated_trip_ids = test_data[test_data.trip_id.map(test_data.trip_id.value_counts()) > 1].trip_id.unique()\n",
    "\n",
    "print(f'Test data: {len(duplicated_trip_ids)} trip ids are duplicated')\n",
    "print(f'Test data: {(len(duplicated_trip_ids)/train_data.trip_id.nunique()*100)} % out of all unique TRIPs.')"
   ]
  },
  {
   "cell_type": "markdown",
   "id": "6d0bc54e",
   "metadata": {},
   "source": [
    "**Findings**:\n",
    "- 159 cases\n",
    "- Missing Data column is set to False for all cases\n",
    "- 80 TRIP_IDs are duplicated\n",
    "- Affected data is insignifcant (less than 1% of all  TRIPs)\n",
    "\n",
    "**Assumptions**:\n",
    "- Potential reasons could be cancellation by dispatcher after a person called for some reasons, failed flight attempts, broken flight taxi etc.\n",
    "- The trips per ID with the longest POLYLINE are kept as these are assumed to be valid trips \n",
    "- Further investigation will should be done and analyzed together with sensor/technical data from flight taxi. Also the reason could be that a flight is interrupted and re-started again, that could be analyzed by plotting the POLYLINE and compare the start and end point of the duplicated TRIPs. Will be part of further optimization"
   ]
  },
  {
   "cell_type": "markdown",
   "id": "7c6ed32b",
   "metadata": {},
   "source": [
    "#### NAN/Null Missing values"
   ]
  },
  {
   "cell_type": "code",
   "execution_count": 15,
   "id": "72ba67ba",
   "metadata": {
    "tags": []
   },
   "outputs": [],
   "source": [
    "assert(train_data.isnull().sum().sum() == 0)"
   ]
  },
  {
   "cell_type": "code",
   "execution_count": 16,
   "id": "b5088d90",
   "metadata": {
    "scrolled": true,
    "tags": []
   },
   "outputs": [],
   "source": [
    "assert(test_data.isnull().sum().sum() == 0)"
   ]
  },
  {
   "cell_type": "markdown",
   "id": "98693a1b",
   "metadata": {},
   "source": [
    "ORIGIN_CALL and ORIGIN_STAND have null values which is to be expected as they are determined dependent on the call type"
   ]
  },
  {
   "cell_type": "markdown",
   "id": "69791552",
   "metadata": {
    "tags": []
   },
   "source": [
    "#### Data Cleaning POLYLINE\n",
    "To do cleaning regarding the POLYLINE, a few more attributes are calculated:\n",
    "- **n_coordinate_points** - number of total points\n",
    "- **total_flight_time_seconds, total_flight_time_minutes** - flight time total\n",
    "- **start_point** - Starting point for each trip\n",
    "- **dest_point** - Last point for each trip \n",
    "- **total_distance** - total distance of trip in km with haversine formulam"
   ]
  },
  {
   "cell_type": "code",
   "execution_count": 17,
   "id": "3e0321d4-41de-4445-8f73-d44b8ba1df94",
   "metadata": {
    "tags": []
   },
   "outputs": [],
   "source": [
    "train_data = calculate_polyline_features(train_data)\n",
    "test_data = calculate_polyline_features(test_data)"
   ]
  },
  {
   "cell_type": "markdown",
   "id": "fb45d0c4-06f9-484d-95d1-20e0f829aae0",
   "metadata": {},
   "source": [
    "Based on assumption, keeping only polylines with at least 10 coordinate points"
   ]
  },
  {
   "cell_type": "markdown",
   "id": "d3deec50-b179-4b61-8dc4-8c78a7ffcbb3",
   "metadata": {},
   "source": [
    "def filter_invalid_trips(data: pd.DataFrame, column_coordinate_points: str, id_column:str, n_points: int) -> pd.DataFrame:\n",
    "    \"\"\"\n",
    "    filters trips with less than n_points coordinate points and takes data sample with longest\n",
    "    POLYLINE for duplicated TRIP IDs\n",
    "    \"\"\"\n",
    "    modified_data = data.copy()\n",
    "    modified_data = modified_data[modified_data[(column_coordinate_points)] >= n_points]\n",
    "    duplicated_ids = modified_data[modified_data[id_column].map(modified_data[id_column].value_counts()) > 1][id_column].unique()\n",
    "    if len(duplicated_ids) > 0:\n",
    "        duplicated_data = modified_data[modified_data[id_column].isin(duplicated_ids)]\n",
    "        valid_data = modified_data[~modified_data[id_column].isin(duplicated_ids)]\n",
    "        filtered_data = duplicated_data.groupby([id_column]).apply(\n",
    "            lambda data_chunk: data_chunk[\n",
    "                data_chunk[column_coordinate_points] == data_chunk[column_coordinate_points].max()\n",
    "            ]\n",
    "        )\n",
    "        modified_data = pd.concat([filtered_data, valid_data], axis=0)\n",
    "    return modified_data"
   ]
  },
  {
   "cell_type": "code",
   "execution_count": 18,
   "id": "cfb1209d-11b5-4015-9b6c-dfad8be939c1",
   "metadata": {
    "tags": []
   },
   "outputs": [
    {
     "ename": "TypeError",
     "evalue": "'>' not supported between instances of 'str' and 'int'",
     "output_type": "error",
     "traceback": [
      "\u001b[0;31m---------------------------------------------------------------------------\u001b[0m",
      "\u001b[0;31mTypeError\u001b[0m                                 Traceback (most recent call last)",
      "Cell \u001b[0;32mIn[18], line 1\u001b[0m\n\u001b[0;32m----> 1\u001b[0m train_data \u001b[38;5;241m=\u001b[39m \u001b[43mfilter_invalid_trips\u001b[49m\u001b[43m(\u001b[49m\u001b[43mdata\u001b[49m\u001b[38;5;241;43m=\u001b[39;49m\u001b[43mtrain_data\u001b[49m\u001b[43m,\u001b[49m\u001b[43m \u001b[49m\u001b[43mn_points\u001b[49m\u001b[38;5;241;43m=\u001b[39;49m\u001b[38;5;241;43m10\u001b[39;49m\u001b[43m,\u001b[49m\n\u001b[1;32m      2\u001b[0m \u001b[43m                                  \u001b[49m\u001b[43mcolumn_coordinate_points\u001b[49m\u001b[38;5;241;43m=\u001b[39;49m\u001b[38;5;124;43m'\u001b[39;49m\u001b[38;5;124;43mn_coordinate_points\u001b[39;49m\u001b[38;5;124;43m'\u001b[39;49m\u001b[43m,\u001b[49m\u001b[43mid_column\u001b[49m\u001b[38;5;241;43m=\u001b[39;49m\u001b[38;5;124;43m'\u001b[39;49m\u001b[38;5;124;43mtrip_id\u001b[39;49m\u001b[38;5;124;43m'\u001b[39;49m\u001b[43m)\u001b[49m\n\u001b[1;32m      3\u001b[0m test_data \u001b[38;5;241m=\u001b[39m filter_invalid_trips(data\u001b[38;5;241m=\u001b[39mtest_data, n_points\u001b[38;5;241m=\u001b[39m\u001b[38;5;241m10\u001b[39m,\n\u001b[1;32m      4\u001b[0m                                   column_coordinate_points\u001b[38;5;241m=\u001b[39m\u001b[38;5;124m'\u001b[39m\u001b[38;5;124mn_coordinate_points\u001b[39m\u001b[38;5;124m'\u001b[39m,id_column\u001b[38;5;241m=\u001b[39m\u001b[38;5;124m'\u001b[39m\u001b[38;5;124mtrip_id\u001b[39m\u001b[38;5;124m'\u001b[39m)\n",
      "File \u001b[0;32m~/PycharmProjects/personal-projects/ml-project-taxi-prediction/src/preprocessing/data_cleaning.py:44\u001b[0m, in \u001b[0;36mfilter_invalid_trips\u001b[0;34m(data, column_coordinate_points, id_column, n_points)\u001b[0m\n\u001b[1;32m     42\u001b[0m modified_data \u001b[38;5;241m=\u001b[39m modified_data[modified_data[(column_coordinate_points)] \u001b[38;5;241m>\u001b[39m\u001b[38;5;241m=\u001b[39m n_points]\n\u001b[1;32m     43\u001b[0m vc \u001b[38;5;241m=\u001b[39m modified_data[id_column]\u001b[38;5;241m.\u001b[39mvalue_counts()\u001b[38;5;241m.\u001b[39mreset_index()\n\u001b[0;32m---> 44\u001b[0m duplicated_ids \u001b[38;5;241m=\u001b[39m vc[\u001b[43mvc\u001b[49m\u001b[43m[\u001b[49m\u001b[43mid_column\u001b[49m\u001b[43m]\u001b[49m\u001b[43m \u001b[49m\u001b[38;5;241;43m>\u001b[39;49m\u001b[43m \u001b[49m\u001b[38;5;241;43m1\u001b[39;49m][id_column]\u001b[38;5;241m.\u001b[39munique()\n\u001b[1;32m     45\u001b[0m \u001b[38;5;28;01mif\u001b[39;00m \u001b[38;5;28mlen\u001b[39m(duplicated_ids) \u001b[38;5;241m>\u001b[39m \u001b[38;5;241m0\u001b[39m:\n\u001b[1;32m     46\u001b[0m     duplicated_data \u001b[38;5;241m=\u001b[39m modified_data[modified_data[id_column]\u001b[38;5;241m.\u001b[39misin(duplicated_ids)]\n",
      "File \u001b[0;32m~/Library/Caches/pypoetry/virtualenvs/taxi-destination-prediction-tbwwnVrE-py3.11/lib/python3.11/site-packages/pandas/core/ops/common.py:76\u001b[0m, in \u001b[0;36m_unpack_zerodim_and_defer.<locals>.new_method\u001b[0;34m(self, other)\u001b[0m\n\u001b[1;32m     72\u001b[0m             \u001b[38;5;28;01mreturn\u001b[39;00m \u001b[38;5;28mNotImplemented\u001b[39m\n\u001b[1;32m     74\u001b[0m other \u001b[38;5;241m=\u001b[39m item_from_zerodim(other)\n\u001b[0;32m---> 76\u001b[0m \u001b[38;5;28;01mreturn\u001b[39;00m \u001b[43mmethod\u001b[49m\u001b[43m(\u001b[49m\u001b[38;5;28;43mself\u001b[39;49m\u001b[43m,\u001b[49m\u001b[43m \u001b[49m\u001b[43mother\u001b[49m\u001b[43m)\u001b[49m\n",
      "File \u001b[0;32m~/Library/Caches/pypoetry/virtualenvs/taxi-destination-prediction-tbwwnVrE-py3.11/lib/python3.11/site-packages/pandas/core/arraylike.py:56\u001b[0m, in \u001b[0;36mOpsMixin.__gt__\u001b[0;34m(self, other)\u001b[0m\n\u001b[1;32m     54\u001b[0m \u001b[38;5;129m@unpack_zerodim_and_defer\u001b[39m(\u001b[38;5;124m\"\u001b[39m\u001b[38;5;124m__gt__\u001b[39m\u001b[38;5;124m\"\u001b[39m)\n\u001b[1;32m     55\u001b[0m \u001b[38;5;28;01mdef\u001b[39;00m\u001b[38;5;250m \u001b[39m\u001b[38;5;21m__gt__\u001b[39m(\u001b[38;5;28mself\u001b[39m, other):\n\u001b[0;32m---> 56\u001b[0m     \u001b[38;5;28;01mreturn\u001b[39;00m \u001b[38;5;28;43mself\u001b[39;49m\u001b[38;5;241;43m.\u001b[39;49m\u001b[43m_cmp_method\u001b[49m\u001b[43m(\u001b[49m\u001b[43mother\u001b[49m\u001b[43m,\u001b[49m\u001b[43m \u001b[49m\u001b[43moperator\u001b[49m\u001b[38;5;241;43m.\u001b[39;49m\u001b[43mgt\u001b[49m\u001b[43m)\u001b[49m\n",
      "File \u001b[0;32m~/Library/Caches/pypoetry/virtualenvs/taxi-destination-prediction-tbwwnVrE-py3.11/lib/python3.11/site-packages/pandas/core/series.py:6119\u001b[0m, in \u001b[0;36mSeries._cmp_method\u001b[0;34m(self, other, op)\u001b[0m\n\u001b[1;32m   6116\u001b[0m lvalues \u001b[38;5;241m=\u001b[39m \u001b[38;5;28mself\u001b[39m\u001b[38;5;241m.\u001b[39m_values\n\u001b[1;32m   6117\u001b[0m rvalues \u001b[38;5;241m=\u001b[39m extract_array(other, extract_numpy\u001b[38;5;241m=\u001b[39m\u001b[38;5;28;01mTrue\u001b[39;00m, extract_range\u001b[38;5;241m=\u001b[39m\u001b[38;5;28;01mTrue\u001b[39;00m)\n\u001b[0;32m-> 6119\u001b[0m res_values \u001b[38;5;241m=\u001b[39m \u001b[43mops\u001b[49m\u001b[38;5;241;43m.\u001b[39;49m\u001b[43mcomparison_op\u001b[49m\u001b[43m(\u001b[49m\u001b[43mlvalues\u001b[49m\u001b[43m,\u001b[49m\u001b[43m \u001b[49m\u001b[43mrvalues\u001b[49m\u001b[43m,\u001b[49m\u001b[43m \u001b[49m\u001b[43mop\u001b[49m\u001b[43m)\u001b[49m\n\u001b[1;32m   6121\u001b[0m \u001b[38;5;28;01mreturn\u001b[39;00m \u001b[38;5;28mself\u001b[39m\u001b[38;5;241m.\u001b[39m_construct_result(res_values, name\u001b[38;5;241m=\u001b[39mres_name)\n",
      "File \u001b[0;32m~/Library/Caches/pypoetry/virtualenvs/taxi-destination-prediction-tbwwnVrE-py3.11/lib/python3.11/site-packages/pandas/core/ops/array_ops.py:344\u001b[0m, in \u001b[0;36mcomparison_op\u001b[0;34m(left, right, op)\u001b[0m\n\u001b[1;32m    341\u001b[0m     \u001b[38;5;28;01mreturn\u001b[39;00m invalid_comparison(lvalues, rvalues, op)\n\u001b[1;32m    343\u001b[0m \u001b[38;5;28;01melif\u001b[39;00m lvalues\u001b[38;5;241m.\u001b[39mdtype \u001b[38;5;241m==\u001b[39m \u001b[38;5;28mobject\u001b[39m \u001b[38;5;129;01mor\u001b[39;00m \u001b[38;5;28misinstance\u001b[39m(rvalues, \u001b[38;5;28mstr\u001b[39m):\n\u001b[0;32m--> 344\u001b[0m     res_values \u001b[38;5;241m=\u001b[39m \u001b[43mcomp_method_OBJECT_ARRAY\u001b[49m\u001b[43m(\u001b[49m\u001b[43mop\u001b[49m\u001b[43m,\u001b[49m\u001b[43m \u001b[49m\u001b[43mlvalues\u001b[49m\u001b[43m,\u001b[49m\u001b[43m \u001b[49m\u001b[43mrvalues\u001b[49m\u001b[43m)\u001b[49m\n\u001b[1;32m    346\u001b[0m \u001b[38;5;28;01melse\u001b[39;00m:\n\u001b[1;32m    347\u001b[0m     res_values \u001b[38;5;241m=\u001b[39m _na_arithmetic_op(lvalues, rvalues, op, is_cmp\u001b[38;5;241m=\u001b[39m\u001b[38;5;28;01mTrue\u001b[39;00m)\n",
      "File \u001b[0;32m~/Library/Caches/pypoetry/virtualenvs/taxi-destination-prediction-tbwwnVrE-py3.11/lib/python3.11/site-packages/pandas/core/ops/array_ops.py:129\u001b[0m, in \u001b[0;36mcomp_method_OBJECT_ARRAY\u001b[0;34m(op, x, y)\u001b[0m\n\u001b[1;32m    127\u001b[0m     result \u001b[38;5;241m=\u001b[39m libops\u001b[38;5;241m.\u001b[39mvec_compare(x\u001b[38;5;241m.\u001b[39mravel(), y\u001b[38;5;241m.\u001b[39mravel(), op)\n\u001b[1;32m    128\u001b[0m \u001b[38;5;28;01melse\u001b[39;00m:\n\u001b[0;32m--> 129\u001b[0m     result \u001b[38;5;241m=\u001b[39m \u001b[43mlibops\u001b[49m\u001b[38;5;241;43m.\u001b[39;49m\u001b[43mscalar_compare\u001b[49m\u001b[43m(\u001b[49m\u001b[43mx\u001b[49m\u001b[38;5;241;43m.\u001b[39;49m\u001b[43mravel\u001b[49m\u001b[43m(\u001b[49m\u001b[43m)\u001b[49m\u001b[43m,\u001b[49m\u001b[43m \u001b[49m\u001b[43my\u001b[49m\u001b[43m,\u001b[49m\u001b[43m \u001b[49m\u001b[43mop\u001b[49m\u001b[43m)\u001b[49m\n\u001b[1;32m    130\u001b[0m \u001b[38;5;28;01mreturn\u001b[39;00m result\u001b[38;5;241m.\u001b[39mreshape(x\u001b[38;5;241m.\u001b[39mshape)\n",
      "File \u001b[0;32mops.pyx:107\u001b[0m, in \u001b[0;36mpandas._libs.ops.scalar_compare\u001b[0;34m()\u001b[0m\n",
      "\u001b[0;31mTypeError\u001b[0m: '>' not supported between instances of 'str' and 'int'"
     ]
    }
   ],
   "source": [
    "train_data = filter_invalid_trips(data=train_data, n_points=10,\n",
    "                                  column_coordinate_points='n_coordinate_points',id_column='trip_id')\n",
    "test_data = filter_invalid_trips(data=test_data, n_points=10,\n",
    "                                  column_coordinate_points='n_coordinate_points',id_column='trip_id')"
   ]
  },
  {
   "cell_type": "markdown",
   "id": "56ef2b99-1daa-40de-a7f3-a8d3698a7da3",
   "metadata": {},
   "source": [
    "Calculating the total distance of the trip in km"
   ]
  },
  {
   "cell_type": "code",
   "execution_count": 47,
   "id": "79e3e66b",
   "metadata": {
    "scrolled": true,
    "tags": []
   },
   "outputs": [],
   "source": [
    "train_data = calculate_total_distance(train_data)\n",
    "test_data = calculate_total_distance(test_data)"
   ]
  },
  {
   "cell_type": "code",
   "execution_count": null,
   "id": "fd1d516f",
   "metadata": {
    "scrolled": true,
    "tags": []
   },
   "outputs": [],
   "source": [
    "train_data['sequence'] = train_data.polyline.apply(lambda row: np.hstack(row))\n",
    "test_data['sequence'] = test_data.polyline.apply(lambda row: np.hstack(row))"
   ]
  },
  {
   "cell_type": "code",
   "execution_count": null,
   "id": "e34594ba",
   "metadata": {
    "tags": []
   },
   "outputs": [],
   "source": [
    "#train_data = train_data.drop(['polyline'], axis=1)\n",
    "#test_data = test_data.drop(['polyline'], axis=1)"
   ]
  },
  {
   "cell_type": "markdown",
   "id": "e5b1825f",
   "metadata": {
    "tags": []
   },
   "source": [
    "#### Missing data columm"
   ]
  },
  {
   "cell_type": "code",
   "execution_count": null,
   "id": "35352209",
   "metadata": {
    "tags": []
   },
   "outputs": [],
   "source": [
    "print(f'Train Data: {train_data.missing_data.value_counts()} Trips with missing_data == True')"
   ]
  },
  {
   "cell_type": "code",
   "execution_count": null,
   "id": "1d7adb70-ce4b-4e54-8c49-40ba026f62e5",
   "metadata": {
    "tags": []
   },
   "outputs": [],
   "source": [
    "print(f'Test Data: {test_data.missing_data.value_counts()} Trips with missing_data == True')"
   ]
  },
  {
   "cell_type": "code",
   "execution_count": null,
   "id": "779cb316",
   "metadata": {
    "scrolled": true,
    "tags": []
   },
   "outputs": [],
   "source": [
    "train_data[train_data.missing_data == True]"
   ]
  },
  {
   "cell_type": "markdown",
   "id": "4983008b",
   "metadata": {},
   "source": [
    "- Amount of data with missing values insignificant compared to total amount of data\n",
    "- Majority of trips is WEATHER == Rainy, however total amount of trips is not significant enought to draw a conclusion/make an assumption\n",
    "- Number of points/length of polyline is in general unequal so there is no indication in that sense how much data is missing, also no information if data is missing at the start/middle or end of POLYLINE \n",
    "\n",
    "Based on these Findings, I would simply drop these values, mainly as their effect is expected to be very little. If the number of data samples would be higher, I would try to impute the missing coordinates in this case with the Nearest Neighbour. However the problem of knowing if the cooordinates are missing in start/middle/end would prevail. In case I find very similar trips through additional logic (difference in n_coordinate_points <= 5 and overall_distance between points < threshold) I could minimize this problem. These tasks could be part of further optimization."
   ]
  },
  {
   "cell_type": "code",
   "execution_count": null,
   "id": "12ebbd47",
   "metadata": {
    "tags": []
   },
   "outputs": [],
   "source": [
    "train_data = train_data[train_data.missing_data != True]"
   ]
  },
  {
   "cell_type": "markdown",
   "id": "ddf675a9",
   "metadata": {},
   "source": [
    "#### OUTLIER\n",
    "To handle the outliers, we look at statistical indicators and plot the boxplot."
   ]
  },
  {
   "cell_type": "code",
   "execution_count": null,
   "id": "8828bcee",
   "metadata": {
    "scrolled": true,
    "tags": []
   },
   "outputs": [],
   "source": [
    "plt.figure(figsize=(10, 10))\n",
    "sns.boxplot(data=train_data[['n_coordinate_points','total_flight_time_minutes','total_distance_km']])\n",
    "plt.show()"
   ]
  },
  {
   "cell_type": "markdown",
   "id": "b94ef896",
   "metadata": {},
   "source": [
    "The cotinous attributes show a high number of outliers, with the number of coordinate points the widest spread.\n",
    "To avoid loosing too much data, keeping the 95% quantile of the data regarding the N_COORDINATE_POINTS and TOTAL_DISTANCE seems to be the best choice. "
   ]
  },
  {
   "cell_type": "code",
   "execution_count": null,
   "id": "6edd5d06",
   "metadata": {
    "tags": []
   },
   "outputs": [],
   "source": [
    "train_data = train_data[(train_data.n_coordinate_points <= train_data.n_coordinate_points.quantile(0.90))\n",
    "                 & (train_data.total_distance_km <= train_data.total_distance_km.quantile(0.90))]"
   ]
  },
  {
   "cell_type": "code",
   "execution_count": null,
   "id": "a648c307",
   "metadata": {
    "tags": []
   },
   "outputs": [
    {
     "data": {
      "image/png": "[encoded data removed]",
      "text/plain": [
       "<Figure size 1000x1000 with 1 Axes>"
      ]
     },
     "metadata": {},
     "output_type": "display_data"
    }
   ],
   "source": [
    "plt.figure(figsize=(10, 10))\n",
    "sns.boxplot(data=train_data[['n_coordinate_points','total_flight_time_minutes','total_distance_km']])\n",
    "plt.show()"
   ]
  },
  {
   "cell_type": "markdown",
   "id": "cc39cc8e",
   "metadata": {},
   "source": [
    "We can see some outliers remaining, however the spread is significantly reduced. Outliers in the test data will be kept to avoid too much reduction."
   ]
  },
  {
   "cell_type": "code",
   "execution_count": null,
   "id": "912bb117",
   "metadata": {
    "tags": []
   },
   "outputs": [
    {
     "data": {
      "image/png": "[encoded data removed]",
      "text/plain": [
       "<Figure size 640x480 with 1 Axes>"
      ]
     },
     "metadata": {},
     "output_type": "display_data"
    }
   ],
   "source": [
    "sns.set()\n",
    "plt.hist(train_data.total_flight_time_minutes,\n",
    "         label=f'Post invalid trips N={train_data.shape[0]}')\n",
    "plt.title('Distribution - total flight time in minutes (95% quantile for visualization reasons)')\n",
    "plt.legend()\n",
    "plt.show()"
   ]
  },
  {
   "cell_type": "code",
   "execution_count": null,
   "id": "095ddc23",
   "metadata": {
    "tags": []
   },
   "outputs": [
    {
     "data": {
      "image/png": "[encoded data removed]",
      "text/plain": [
       "<Figure size 640x480 with 1 Axes>"
      ]
     },
     "metadata": {},
     "output_type": "display_data"
    }
   ],
   "source": [
    "sns.set()\n",
    "plt.hist(train_data.total_distance_km,\n",
    "         label=f'Post invalid trips N={train_data.shape[0]}')\n",
    "plt.title('Distribution - Count total distance km')\n",
    "plt.legend()\n",
    "plt.show()"
   ]
  },
  {
   "cell_type": "markdown",
   "id": "934840d5",
   "metadata": {},
   "source": [
    "The reduction of the training data does not have a major effect on the data distribution. Optimization could be to compare performance with/without outliers "
   ]
  },
  {
   "cell_type": "code",
   "execution_count": null,
   "id": "ebf36a9d",
   "metadata": {
    "tags": []
   },
   "outputs": [
    {
     "name": "stdout",
     "output_type": "stream",
     "text": [
      "Column shape train vs test passed\n",
      "Column naming train vs test passed\n",
      "Check for unique trips passed - train data\n",
      "Check for unique trips passed - test data\n",
      "All checks passed!\n"
     ]
    }
   ],
   "source": [
    "try:\n",
    "    assert(train_data.shape[1] == test_data.shape[1])\n",
    "    print(\"Column shape train vs test passed\")\n",
    "    assert((train_data.columns == test_data.columns).all())\n",
    "    print(\"Column naming train vs test passed\")\n",
    "    assert(train_data.trip_id.nunique() == train_data.shape[0])\n",
    "    print(\"Check for unique trips passed - train data\")\n",
    "    assert(test_data.trip_id.nunique() == test_data.shape[0])\n",
    "    print(\"Check for unique trips passed - test data\")\n",
    "    print('All checks passed!')\n",
    "except:\n",
    "    print(\"Sanity Check failed\")"
   ]
  },
  {
   "cell_type": "markdown",
   "id": "384185cd",
   "metadata": {},
   "source": [
    "#### 0.5.5 CALL_TYPE LOGIC"
   ]
  },
  {
   "cell_type": "code",
   "execution_count": null,
   "id": "5b74a333",
   "metadata": {
    "tags": []
   },
   "outputs": [],
   "source": [
    "def check_call_type(data):\n",
    "    data_A = data[(data.call_type == 'A') & (data.origin_call == np.NaN)]\n",
    "    data_B = data[(data.call_type == 'B') & (data.origin_stand == np.NaN)]\n",
    "    data_C = data[(data.call_type == 'C') & (data.origin_stand != np.NaN)].origin_stand.nunique()\n",
    "    return data_A, data_B, data_C"
   ]
  },
  {
   "cell_type": "code",
   "execution_count": null,
   "id": "1c2c6a94",
   "metadata": {
    "tags": []
   },
   "outputs": [
    {
     "data": {
      "text/plain": [
       "(Empty DataFrame\n",
       " Columns: [trip_id, call_type, origin_call, origin_stand, taxi_id, timestamp, day_type, missing_data, polyline, n_coordinate_points, total_flight_time_seconds, total_flight_time_minutes, start_point, dest_point, final_point, total_distance_km, sequence]\n",
       " Index: [],\n",
       " Empty DataFrame\n",
       " Columns: [trip_id, call_type, origin_call, origin_stand, taxi_id, timestamp, day_type, missing_data, polyline, n_coordinate_points, total_flight_time_seconds, total_flight_time_minutes, start_point, dest_point, final_point, total_distance_km, sequence]\n",
       " Index: [],\n",
       " 1)"
      ]
     },
     "execution_count": 37,
     "metadata": {},
     "output_type": "execute_result"
    }
   ],
   "source": [
    "check_call_type(train_data)"
   ]
  },
  {
   "cell_type": "code",
   "execution_count": null,
   "id": "2ca47ab5",
   "metadata": {
    "tags": []
   },
   "outputs": [
    {
     "data": {
      "text/plain": [
       "(Empty DataFrame\n",
       " Columns: [trip_id, call_type, origin_call, origin_stand, taxi_id, timestamp, day_type, missing_data, polyline, n_coordinate_points, total_flight_time_seconds, total_flight_time_minutes, start_point, dest_point, final_point, total_distance_km, sequence]\n",
       " Index: [],\n",
       " Empty DataFrame\n",
       " Columns: [trip_id, call_type, origin_call, origin_stand, taxi_id, timestamp, day_type, missing_data, polyline, n_coordinate_points, total_flight_time_seconds, total_flight_time_minutes, start_point, dest_point, final_point, total_distance_km, sequence]\n",
       " Index: [],\n",
       " 1)"
      ]
     },
     "execution_count": 38,
     "metadata": {},
     "output_type": "execute_result"
    }
   ],
   "source": [
    "check_call_type(test_data)"
   ]
  },
  {
   "cell_type": "code",
   "execution_count": null,
   "id": "20c79ef3",
   "metadata": {
    "tags": []
   },
   "outputs": [],
   "source": [
    "train_data.drop(['missing_data','total_flight_time_seconds'], axis=1, inplace=True)\n",
    "test_data.drop(['missing_data','total_flight_time_seconds'], axis=1, inplace=True)"
   ]
  },
  {
   "cell_type": "code",
   "execution_count": null,
   "id": "a8f1d7f9-2e22-4855-a0c9-b13264837630",
   "metadata": {
    "tags": []
   },
   "outputs": [
    {
     "data": {
      "text/plain": [
       "2014-04-10 14:57:28    5\n",
       "2014-06-08 05:12:06    4\n",
       "2013-11-07 14:01:33    4\n",
       "2014-05-10 06:54:38    4\n",
       "2014-03-27 19:49:12    4\n",
       "                      ..\n",
       "2013-10-31 20:39:25    1\n",
       "2013-10-31 20:18:40    1\n",
       "2013-10-31 22:32:01    1\n",
       "2013-10-31 21:30:09    1\n",
       "2014-06-30 21:39:07    1\n",
       "Name: timestamp, Length: 1331117, dtype: int64"
      ]
     },
     "execution_count": 40,
     "metadata": {},
     "output_type": "execute_result"
    }
   ],
   "source": [
    "train_data.timestamp.value_counts()"
   ]
  },
  {
   "cell_type": "code",
   "execution_count": null,
   "id": "d298d356",
   "metadata": {
    "tags": []
   },
   "outputs": [],
   "source": [
    "if is_sagemaker_notebook:\n",
    "    aw.s3.to_parquet(df=train_data, path='s3://think-tank-casestudy/preprocessed_data/train_data_preprocess.parquet', dataset=True, partition_cols=['taxi_id'])\n",
    "    aw.s3.to_parquet(df=test_data, path='s3://think-tank-casestudy/preprocessed_data/test_data_preprocess.parquet', dataset=True, partition_cols=['taxi_id'])\n",
    "\n",
    "else:\n",
    "    train_data.to_csv(f'{prefix}/ml-project-taxi-prediction/data/processed/train_data.csv', header=True, index=False)\n",
    "    test_data.to_csv(f'{prefix}/ml-project-taxi-prediction/data/processed/test_data.csv', header=True, index=False)"
   ]
  }
 ],
 "metadata": {
  "kernelspec": {
   "display_name": "Python 3 (ipykernel)",
   "language": "python",
   "name": "python3"
  },
  "language_info": {
   "codemirror_mode": {
    "name": "ipython",
    "version": 3
   },
   "file_extension": ".py",
   "mimetype": "text/x-python",
   "name": "python",
   "nbconvert_exporter": "python",
   "pygments_lexer": "ipython3",
   "version": "3.11.8"
  }
 },
 "nbformat": 4,
 "nbformat_minor": 5
}
