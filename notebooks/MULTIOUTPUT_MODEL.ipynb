{
 "cells": [
  {
   "cell_type": "markdown",
   "id": "1fd861eb",
   "metadata": {},
   "source": [
    "### Model training"
   ]
  },
  {
   "cell_type": "markdown",
   "id": "448c903b",
   "metadata": {},
   "source": [
    "The following approaches are considered:\n",
    "- Multi classification problem with clustered data\n",
    "- Mutli regression problem with two outputs (longitude/latitude)\n",
    "\n",
    "In terms of the data we have the following approaches:\n",
    "- fixed sequence length - take N points from beginning of POLYLINE and N points from end of polyline \n",
    "\n",
    "\n",
    "Algorithms:\n",
    "- Long term short term NN (multi-class classification and regression)\n",
    "    - able to handle variable sequence length, therefore the total trip POLYLINE can be used\n",
    "- Random forest(regression and classification) \n",
    "    - can handle outliers well as dataset still contains outliers\n",
    "    - runs efficiently on large data set\n",
    "    \n",
    "Metrics:\n",
    "- Classification of clusters: AUC + Avg distance of last point to cluster center\n",
    "- Regression: MAPE + Avg distance of last point to cluster center\n"
   ]
  },
  {
   "cell_type": "code",
   "execution_count": 1,
   "id": "81e88351",
   "metadata": {
    "tags": []
   },
   "outputs": [],
   "source": [
    "import os,sys\n",
    "import pandas as pd \n",
    "import numpy as np \n",
    "import json\n",
    "from sklearn.ensemble import RandomForestClassifier\n",
    "from sklearn.model_selection import train_test_split\n",
    "from tensorflow.keras.callbacks import EarlyStopping"
   ]
  },
  {
   "cell_type": "code",
   "execution_count": 2,
   "id": "fab5fc67-d05b-4a39-a3ab-cd55c95624ea",
   "metadata": {
    "tags": []
   },
   "outputs": [],
   "source": [
    "is_sagemaker_notebook = False"
   ]
  },
  {
   "cell_type": "code",
   "execution_count": 3,
   "id": "306084de-8bb1-42a1-9ef8-145b0fbdd68b",
   "metadata": {
    "tags": []
   },
   "outputs": [],
   "source": [
    "if is_sagemaker_notebook:\n",
    "    prefix = \"/home/ec2-user/SageMaker\"\n",
    "else:\n",
    "    prefix = \"/Users/Q619505/PycharmProjects/personal-projects/taxi-destination-prediction\"\n",
    "\n",
    "utils_path = os.path.join(f'{prefix}/src/utils/')\n",
    "pp_path = os.path.join(f'{prefix}/src/preprocessing/')\n",
    "model_path = os.path.join(f'{prefix}/src/modelling/')\n",
    "\n",
    "if utils_path not in sys.path:\n",
    "    sys.path.append(utils_path)\n",
    "\n",
    "if pp_path not in sys.path:\n",
    "    sys.path.append(pp_path)\n",
    "\n",
    "if model_path not in sys.path:\n",
    "    sys.path.append(model_path)"
   ]
  },
  {
   "cell_type": "code",
   "execution_count": 4,
   "id": "623fa49c-2915-4d45-aade-ac75ea00716d",
   "metadata": {
    "tags": []
   },
   "outputs": [],
   "source": [
    "from data_cleaning import create_fix_length_sequences, split_lat_lon\n",
    "from geo_spatial import convert_polyline_to_geojson_format, convert_string_to_geojson, haversine_distance, pair_wise_haversine_distance\n",
    "from model import MultioutputModel"
   ]
  },
  {
   "cell_type": "code",
   "execution_count": 5,
   "id": "114e1aff",
   "metadata": {
    "tags": []
   },
   "outputs": [],
   "source": [
    "if is_sagemaker_notebook:\n",
    "    train_data = pd.read_parquet(f's3://think-tank-casestudy/features_engineered/n_cluster_{n_cluster}/feature_engineered_train.parquet')\n",
    "    test_data = pd.read_parquet(f's3://think-tank-casestudy/features_engineered/n_cluster_{n_cluster}/feature_engineered_test.parquet')\n",
    "else:\n",
    "    train_data = pd.read_csv(f'{prefix}/data/processed/train_data_encoded.csv', header=0,index_col=False)\n",
    "    test_data = pd.read_csv(f'{prefix}/data/processed/test_data_encoded.csv', header=0, index_col=False)\n",
    "    "
   ]
  },
  {
   "cell_type": "markdown",
   "id": "4a7f5184",
   "metadata": {
    "jp-MarkdownHeadingCollapsed": true
   },
   "source": [
    "### Multioutput NN model - 8 point sequence\n",
    "\n",
    "- Time series of first 8 points and 8 last points - haversine distance between points \n"
   ]
  },
  {
   "cell_type": "markdown",
   "id": "5bcacc1e",
   "metadata": {},
   "source": [
    "Limit to only necessary attribtues"
   ]
  },
  {
   "cell_type": "code",
   "execution_count": 8,
   "id": "80478b5b",
   "metadata": {},
   "outputs": [
    {
     "ename": "NameError",
     "evalue": "name 'train_data' is not defined",
     "output_type": "error",
     "traceback": [
      "\u001b[0;31m---------------------------------------------------------------------------\u001b[0m",
      "\u001b[0;31mNameError\u001b[0m                                 Traceback (most recent call last)",
      "Cell \u001b[0;32mIn[8], line 1\u001b[0m\n\u001b[0;32m----> 1\u001b[0m X_train \u001b[38;5;241m=\u001b[39m \u001b[43mtrain_data\u001b[49m[[\u001b[38;5;124m'\u001b[39m\u001b[38;5;124mtrip_id\u001b[39m\u001b[38;5;124m'\u001b[39m, \u001b[38;5;124m'\u001b[39m\u001b[38;5;124mfinal_point\u001b[39m\u001b[38;5;124m'\u001b[39m, \u001b[38;5;124m'\u001b[39m\u001b[38;5;124mpolyline\u001b[39m\u001b[38;5;124m'\u001b[39m, \u001b[38;5;124m'\u001b[39m\u001b[38;5;124mn_coordinate_points\u001b[39m\u001b[38;5;124m'\u001b[39m, \u001b[38;5;124m'\u001b[39m\u001b[38;5;124mtotal_distance_km\u001b[39m\u001b[38;5;124m'\u001b[39m,\u001b[38;5;124m'\u001b[39m\u001b[38;5;124mtotal_flight_time_minutes\u001b[39m\u001b[38;5;124m'\u001b[39m]]\n\u001b[1;32m      2\u001b[0m X_test \u001b[38;5;241m=\u001b[39m test_data[[\u001b[38;5;124m'\u001b[39m\u001b[38;5;124mtrip_id\u001b[39m\u001b[38;5;124m'\u001b[39m, \u001b[38;5;124m'\u001b[39m\u001b[38;5;124mfinal_point\u001b[39m\u001b[38;5;124m'\u001b[39m,\u001b[38;5;124m'\u001b[39m\u001b[38;5;124mpolyline\u001b[39m\u001b[38;5;124m'\u001b[39m,  \u001b[38;5;124m'\u001b[39m\u001b[38;5;124mn_coordinate_points\u001b[39m\u001b[38;5;124m'\u001b[39m, \u001b[38;5;124m'\u001b[39m\u001b[38;5;124mtotal_distance_km\u001b[39m\u001b[38;5;124m'\u001b[39m,\u001b[38;5;124m'\u001b[39m\u001b[38;5;124mtotal_flight_time_minutes\u001b[39m\u001b[38;5;124m'\u001b[39m]]\n",
      "\u001b[0;31mNameError\u001b[0m: name 'train_data' is not defined"
     ]
    }
   ],
   "source": [
    "X_train = train_data[['trip_id', 'final_point', 'polyline', 'n_coordinate_points', 'total_distance_km','total_flight_time_minutes']]\n",
    "X_test = test_data[['trip_id', 'final_point','polyline',  'n_coordinate_points', 'total_distance_km','total_flight_time_minutes']]"
   ]
  },
  {
   "cell_type": "code",
   "execution_count": 11,
   "id": "08af9175-4bce-4be6-9847-0bc539b94453",
   "metadata": {},
   "outputs": [
    {
     "name": "stderr",
     "output_type": "stream",
     "text": [
      "Exception ignored in: <bound method IPythonKernel._clean_thread_parent_frames of <ipykernel.ipkernel.IPythonKernel object at 0x10768e8d0>>\n",
      "Traceback (most recent call last):\n",
      "  File \"/Users/Q619505/Library/Caches/pypoetry/virtualenvs/taxi-destination-prediction-tbwwnVrE-py3.11/lib/python3.11/site-packages/ipykernel/ipkernel.py\", line 775, in _clean_thread_parent_frames\n",
      "    def _clean_thread_parent_frames(\n",
      "\n",
      "KeyboardInterrupt: \n"
     ]
    }
   ],
   "source": [
    "X_train = convert_polyline_to_geojson_format(X_train, 'polyline').rename(columns={'polyline': 'sequence'})\n",
    "X_test = convert_polyline_to_geojson_format(X_test, 'polyline').rename(columns={'polyline': 'sequence'})"
   ]
  },
  {
   "cell_type": "code",
   "execution_count": 54,
   "id": "1d929396-d664-4f27-99bc-058ecfb8404c",
   "metadata": {},
   "outputs": [],
   "source": [
    "X_train = create_fix_length_sequences(X_train, 8, 'sequence')\n",
    "X_test = create_fix_length_sequences(X_test, 8, 'sequence')"
   ]
  },
  {
   "cell_type": "code",
   "execution_count": 103,
   "id": "e930ad0b-88a6-4bb3-b800-7c576995a677",
   "metadata": {},
   "outputs": [],
   "source": [
    "X_train['distance_sequence'] = X_train.sequence_transformed.apply(lambda sequence_: pair_wise_haversine_distance(sequence_))\n",
    "X_test['distance_sequence'] = X_test.sequence_transformed.apply(lambda sequence_: pair_wise_haversine_distance(sequence_))"
   ]
  },
  {
   "cell_type": "code",
   "execution_count": 105,
   "id": "7e2ee944-2814-4f26-8221-e2d5219f00a1",
   "metadata": {},
   "outputs": [],
   "source": [
    "X_train, y_train = X_train[['distance_sequence']], X_train[['final_point']]\n",
    "X_test, y_test = X_test[['distance_sequence']], X_test[['final_point']]"
   ]
  },
  {
   "cell_type": "code",
   "execution_count": 143,
   "id": "e6e919b2-c2f8-4c19-8bb4-73dc66fde0e4",
   "metadata": {},
   "outputs": [],
   "source": [
    "X_train = pd.DataFrame(sequence_ for sequence_ in X_train.distance_sequence).add_prefix('x_')\n",
    "X_test = pd.DataFrame(sequence_ for sequence_ in X_test.distance_sequence).add_prefix('x_')"
   ]
  },
  {
   "cell_type": "code",
   "execution_count": 146,
   "id": "62557b6a-7436-477c-8ef5-5a18fd05ce0e",
   "metadata": {},
   "outputs": [],
   "source": [
    "X_train.to_csv('X_train_distance_sequence.csv', header=True, index=False)\n",
    "X_test.to_csv('X_test_distance_sequence.csv', header=True, index=False)"
   ]
  },
  {
   "cell_type": "code",
   "execution_count": 161,
   "id": "f5c12d1e-3458-436b-bf16-66a3c3526bfb",
   "metadata": {},
   "outputs": [],
   "source": [
    "y_train = convert_polyline_to_geojson_format(y_train, 'final_point').split_lat_lon(y_train, 'final_point')"
   ]
  },
  {
   "cell_type": "code",
   "execution_count": 166,
   "id": "7d465387-cec6-47fc-a728-8d15d4d4b719",
   "metadata": {},
   "outputs": [],
   "source": [
    "y_train.lon_final_point = y_train.lon_final_point.astype(float)\n",
    "y_train.lat_final_point = y_train.lat_final_point.astype(float)"
   ]
  },
  {
   "cell_type": "code",
   "execution_count": 168,
   "id": "cb7cebdb-1b2a-406b-9fb0-e126ef5f546b",
   "metadata": {},
   "outputs": [],
   "source": [
    "y_train = y_train.drop(['final_point'], axis=1)"
   ]
  },
  {
   "cell_type": "code",
   "execution_count": 169,
   "id": "1f0da5f9-d37a-4f8e-aa4f-7c6b9dae9b1f",
   "metadata": {},
   "outputs": [],
   "source": [
    "y_test = convert_polyline_to_geojson_format(y_test, 'final_point').split_lat_lon(y_test, 'final_point')"
   ]
  },
  {
   "cell_type": "code",
   "execution_count": 171,
   "id": "7bbbe886-df18-440e-bc4e-a84c1f0ba232",
   "metadata": {},
   "outputs": [],
   "source": [
    "y_test.lon_final_point = y_test.lon_final_point.astype(float)\n",
    "y_test.lat_final_point = y_test.lat_final_point.astype(float)"
   ]
  },
  {
   "cell_type": "code",
   "execution_count": 172,
   "id": "e71a2a10-8a59-4a1e-a8eb-9e03e11543f8",
   "metadata": {},
   "outputs": [],
   "source": [
    "y_test = y_test.drop(['final_point'], axis=1)"
   ]
  },
  {
   "cell_type": "code",
   "execution_count": 174,
   "id": "affc73ce-3dd2-4c7e-85ef-053cf6c0d5e3",
   "metadata": {},
   "outputs": [],
   "source": [
    "y_train.to_csv('y_train_distance_sequence.csv', header=True, index=False)\n",
    "y_test.to_csv('y_test_distance_sequence.csv', header=True, index=False)"
   ]
  },
  {
   "cell_type": "markdown",
   "id": "87f41883-edc1-4b03-bd3a-1912b168916b",
   "metadata": {},
   "source": [
    "### Configure Model"
   ]
  },
  {
   "cell_type": "code",
   "execution_count": 6,
   "id": "886679fa-68d7-41cb-9fdf-63fa3b6d3935",
   "metadata": {},
   "outputs": [],
   "source": [
    "random_state = 20"
   ]
  },
  {
   "cell_type": "code",
   "execution_count": 7,
   "id": "296e3021-33d3-42eb-adab-46c7aa40f579",
   "metadata": {},
   "outputs": [],
   "source": [
    "X_train = pd.read_csv('X_train_distance_sequence.csv', header=0,index_col=False)\n",
    "y_train = pd.read_csv('y_train_distance_sequence.csv', header=0,index_col=False)"
   ]
  },
  {
   "cell_type": "code",
   "execution_count": 8,
   "id": "29e9e288-cfeb-43f3-844f-2cc6c19193c4",
   "metadata": {},
   "outputs": [],
   "source": [
    "X_train, X_val, y_train, y_val = train_test_split(X_train, y_train, test_size=0.2, random_state=random_state)"
   ]
  },
  {
   "cell_type": "code",
   "execution_count": 9,
   "id": "2a6dd671-fa3d-4abe-a502-77ad764abaec",
   "metadata": {},
   "outputs": [],
   "source": [
    "multi_output_model = MultioutputModel(num_timesteps=15)"
   ]
  },
  {
   "cell_type": "code",
   "execution_count": 10,
   "id": "e75b248d-235b-4a39-838e-015a33394a48",
   "metadata": {},
   "outputs": [],
   "source": [
    "y_train = y_train.reset_index(drop=True)\n",
    "y_val = y_val.reset_index(drop=True)"
   ]
  },
  {
   "cell_type": "code",
   "execution_count": 11,
   "id": "8a0f0428-48d9-463d-95bb-b8f1db302db2",
   "metadata": {},
   "outputs": [
    {
     "data": {
      "text/html": [
       "<div>\n",
       "<style scoped>\n",
       "    .dataframe tbody tr th:only-of-type {\n",
       "        vertical-align: middle;\n",
       "    }\n",
       "\n",
       "    .dataframe tbody tr th {\n",
       "        vertical-align: top;\n",
       "    }\n",
       "\n",
       "    .dataframe thead th {\n",
       "        text-align: right;\n",
       "    }\n",
       "</style>\n",
       "<table border=\"1\" class=\"dataframe\">\n",
       "  <thead>\n",
       "    <tr style=\"text-align: right;\">\n",
       "      <th></th>\n",
       "      <th>lon_final_point</th>\n",
       "      <th>lat_final_point</th>\n",
       "    </tr>\n",
       "  </thead>\n",
       "  <tbody>\n",
       "    <tr>\n",
       "      <th>0</th>\n",
       "      <td>-8.609418</td>\n",
       "      <td>41.148972</td>\n",
       "    </tr>\n",
       "    <tr>\n",
       "      <th>1</th>\n",
       "      <td>-8.612712</td>\n",
       "      <td>41.169357</td>\n",
       "    </tr>\n",
       "    <tr>\n",
       "      <th>2</th>\n",
       "      <td>-8.617572</td>\n",
       "      <td>41.143068</td>\n",
       "    </tr>\n",
       "    <tr>\n",
       "      <th>3</th>\n",
       "      <td>-8.605215</td>\n",
       "      <td>41.153616</td>\n",
       "    </tr>\n",
       "    <tr>\n",
       "      <th>4</th>\n",
       "      <td>-8.619597</td>\n",
       "      <td>41.168826</td>\n",
       "    </tr>\n",
       "    <tr>\n",
       "      <th>...</th>\n",
       "      <td>...</td>\n",
       "      <td>...</td>\n",
       "    </tr>\n",
       "    <tr>\n",
       "      <th>1093404</th>\n",
       "      <td>-8.606583</td>\n",
       "      <td>41.144670</td>\n",
       "    </tr>\n",
       "    <tr>\n",
       "      <th>1093405</th>\n",
       "      <td>-8.584398</td>\n",
       "      <td>41.168565</td>\n",
       "    </tr>\n",
       "    <tr>\n",
       "      <th>1093406</th>\n",
       "      <td>-8.631135</td>\n",
       "      <td>41.162778</td>\n",
       "    </tr>\n",
       "    <tr>\n",
       "      <th>1093407</th>\n",
       "      <td>-8.615880</td>\n",
       "      <td>41.145309</td>\n",
       "    </tr>\n",
       "    <tr>\n",
       "      <th>1093408</th>\n",
       "      <td>-8.615340</td>\n",
       "      <td>41.183118</td>\n",
       "    </tr>\n",
       "  </tbody>\n",
       "</table>\n",
       "<p>1093409 rows × 2 columns</p>\n",
       "</div>"
      ],
      "text/plain": [
       "         lon_final_point  lat_final_point\n",
       "0              -8.609418        41.148972\n",
       "1              -8.612712        41.169357\n",
       "2              -8.617572        41.143068\n",
       "3              -8.605215        41.153616\n",
       "4              -8.619597        41.168826\n",
       "...                  ...              ...\n",
       "1093404        -8.606583        41.144670\n",
       "1093405        -8.584398        41.168565\n",
       "1093406        -8.631135        41.162778\n",
       "1093407        -8.615880        41.145309\n",
       "1093408        -8.615340        41.183118\n",
       "\n",
       "[1093409 rows x 2 columns]"
      ]
     },
     "execution_count": 11,
     "metadata": {},
     "output_type": "execute_result"
    }
   ],
   "source": [
    "y_train"
   ]
  },
  {
   "cell_type": "code",
   "execution_count": 12,
   "id": "b281ae00-f898-4d54-a237-3fdad88810d5",
   "metadata": {},
   "outputs": [],
   "source": [
    "callback = EarlyStopping(monitor='loss',patience=3)"
   ]
  },
  {
   "cell_type": "code",
   "execution_count": null,
   "id": "aaad397a-8a4f-461f-943d-7c5de5aa4da6",
   "metadata": {},
   "outputs": [
    {
     "name": "stdout",
     "output_type": "stream",
     "text": [
      "Epoch 1/10\n",
      "\u001b[1m9112/9112\u001b[0m \u001b[32m━━━━━━━━━━━━━━━━━━━━\u001b[0m\u001b[37m\u001b[0m \u001b[1m96s\u001b[0m 11ms/step - loss: 133.2710 - y1_output_loss: 6.2331 - y1_output_root_mean_squared_error: 2.0851 - y2_output_loss: 127.0359 - y2_output_root_mean_squared_error: 9.2819 - val_loss: 0.0028 - val_y1_output_loss: 0.0019 - val_y1_output_root_mean_squared_error: 0.0437 - val_y2_output_loss: 8.8524e-04 - val_y2_output_root_mean_squared_error: 0.0298\n",
      "Epoch 2/10\n",
      "\u001b[1m9112/9112\u001b[0m \u001b[32m━━━━━━━━━━━━━━━━━━━━\u001b[0m\u001b[37m\u001b[0m \u001b[1m85s\u001b[0m 9ms/step - loss: 0.0110 - y1_output_loss: 0.0020 - y1_output_root_mean_squared_error: 0.0448 - y2_output_loss: 0.0090 - y2_output_root_mean_squared_error: 0.0774 - val_loss: 0.0016 - val_y1_output_loss: 0.0011 - val_y1_output_root_mean_squared_error: 0.0325 - val_y2_output_loss: 5.7930e-04 - val_y2_output_root_mean_squared_error: 0.0241\n",
      "Epoch 3/10\n",
      "\u001b[1m9112/9112\u001b[0m \u001b[32m━━━━━━━━━━━━━━━━━━━━\u001b[0m\u001b[37m\u001b[0m \u001b[1m91s\u001b[0m 10ms/step - loss: 0.0093 - y1_output_loss: 0.0016 - y1_output_root_mean_squared_error: 0.0393 - y2_output_loss: 0.0077 - y2_output_root_mean_squared_error: 0.0815 - val_loss: 0.0013 - val_y1_output_loss: 8.2113e-04 - val_y1_output_root_mean_squared_error: 0.0287 - val_y2_output_loss: 4.8579e-04 - val_y2_output_root_mean_squared_error: 0.0220\n",
      "Epoch 4/10\n",
      "\u001b[1m9112/9112\u001b[0m \u001b[32m━━━━━━━━━━━━━━━━━━━━\u001b[0m\u001b[37m\u001b[0m \u001b[1m79s\u001b[0m 9ms/step - loss: 0.0030 - y1_output_loss: 9.6388e-04 - y1_output_root_mean_squared_error: 0.0309 - y2_output_loss: 0.0021 - y2_output_root_mean_squared_error: 0.0418 - val_loss: 0.0012 - val_y1_output_loss: 8.0447e-04 - val_y1_output_root_mean_squared_error: 0.0284 - val_y2_output_loss: 4.3850e-04 - val_y2_output_root_mean_squared_error: 0.0209\n",
      "Epoch 5/10\n",
      "\u001b[1m9112/9112\u001b[0m \u001b[32m━━━━━━━━━━━━━━━━━━━━\u001b[0m\u001b[37m\u001b[0m \u001b[1m80s\u001b[0m 9ms/step - loss: 0.0022 - y1_output_loss: 8.9974e-04 - y1_output_root_mean_squared_error: 0.0299 - y2_output_loss: 0.0013 - y2_output_root_mean_squared_error: 0.0344 - val_loss: 0.0012 - val_y1_output_loss: 8.0349e-04 - val_y1_output_root_mean_squared_error: 0.0283 - val_y2_output_loss: 4.2134e-04 - val_y2_output_root_mean_squared_error: 0.0205\n",
      "Epoch 6/10\n",
      "\u001b[1m9112/9112\u001b[0m \u001b[32m━━━━━━━━━━━━━━━━━━━━\u001b[0m\u001b[37m\u001b[0m \u001b[1m83s\u001b[0m 9ms/step - loss: 0.0044 - y1_output_loss: 0.0011 - y1_output_root_mean_squared_error: 0.0335 - y2_output_loss: 0.0032 - y2_output_root_mean_squared_error: 0.0528 - val_loss: 0.0012 - val_y1_output_loss: 8.0321e-04 - val_y1_output_root_mean_squared_error: 0.0283 - val_y2_output_loss: 3.9207e-04 - val_y2_output_root_mean_squared_error: 0.0198\n",
      "Epoch 7/10\n",
      "\u001b[1m9112/9112\u001b[0m \u001b[32m━━━━━━━━━━━━━━━━━━━━\u001b[0m\u001b[37m\u001b[0m \u001b[1m80s\u001b[0m 9ms/step - loss: 0.0013 - y1_output_loss: 8.0694e-04 - y1_output_root_mean_squared_error: 0.0284 - y2_output_loss: 4.9061e-04 - y2_output_root_mean_squared_error: 0.0216 - val_loss: 0.0012 - val_y1_output_loss: 8.0455e-04 - val_y1_output_root_mean_squared_error: 0.0284 - val_y2_output_loss: 3.7385e-04 - val_y2_output_root_mean_squared_error: 0.0193\n",
      "Epoch 8/10\n",
      "\u001b[1m9112/9112\u001b[0m \u001b[32m━━━━━━━━━━━━━━━━━━━━\u001b[0m\u001b[37m\u001b[0m \u001b[1m78s\u001b[0m 9ms/step - loss: 0.0014 - y1_output_loss: 8.1697e-04 - y1_output_root_mean_squared_error: 0.0286 - y2_output_loss: 5.9925e-04 - y2_output_root_mean_squared_error: 0.0237 - val_loss: 0.0012 - val_y1_output_loss: 8.0519e-04 - val_y1_output_root_mean_squared_error: 0.0284 - val_y2_output_loss: 3.5744e-04 - val_y2_output_root_mean_squared_error: 0.0189\n",
      "Epoch 9/10\n",
      "\u001b[1m9112/9112\u001b[0m \u001b[32m━━━━━━━━━━━━━━━━━━━━\u001b[0m\u001b[37m\u001b[0m \u001b[1m81s\u001b[0m 9ms/step - loss: 0.0014 - y1_output_loss: 8.2346e-04 - y1_output_root_mean_squared_error: 0.0287 - y2_output_loss: 6.1171e-04 - y2_output_root_mean_squared_error: 0.0238 - val_loss: 0.0011 - val_y1_output_loss: 8.0409e-04 - val_y1_output_root_mean_squared_error: 0.0284 - val_y2_output_loss: 3.4555e-04 - val_y2_output_root_mean_squared_error: 0.0186\n",
      "Epoch 10/10\n",
      "\u001b[1m7857/9112\u001b[0m \u001b[32m━━━━━━━━━━━━━━━━━\u001b[0m\u001b[37m━━━\u001b[0m \u001b[1m9s\u001b[0m 8ms/step - loss: 0.0015 - y1_output_loss: 8.5084e-04 - y1_output_root_mean_squared_error: 0.0291 - y2_output_loss: 6.6813e-04 - y2_output_root_mean_squared_error: 0.0251"
     ]
    }
   ],
   "source": [
    "multi_output_model.train(X_train, {'y1_output': y_train.lon_final_point, 'y2_output': y_train.lat_final_point}, epochs=10, \n",
    "                         validation_data=(X_val, {'y1_output': y_val.lon_final_point, 'y2_output': y_val.lat_final_point}),\n",
    "                         batch_size=120, callbacks=[callback])"
   ]
  }
 ],
 "metadata": {
  "kernelspec": {
   "display_name": "taxi-prediction-kernel",
   "language": "python",
   "name": "taxi-prediction-kernel"
  },
  "language_info": {
   "codemirror_mode": {
    "name": "ipython",
    "version": 3
   },
   "file_extension": ".py",
   "mimetype": "text/x-python",
   "name": "python",
   "nbconvert_exporter": "python",
   "pygments_lexer": "ipython3",
   "version": "3.11.8"
  }
 },
 "nbformat": 4,
 "nbformat_minor": 5
}
